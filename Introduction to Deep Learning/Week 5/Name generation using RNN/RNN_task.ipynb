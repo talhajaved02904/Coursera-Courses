{
  "nbformat": 4,
  "nbformat_minor": 0,
  "metadata": {
    "colab": {
      "name": "Copy of RNN-task.ipynb",
      "version": "0.3.2",
      "provenance": [],
      "collapsed_sections": []
    },
    "language_info": {
      "codemirror_mode": {
        "name": "ipython",
        "version": 3
      },
      "file_extension": ".py",
      "mimetype": "text/x-python",
      "name": "python",
      "nbconvert_exporter": "python",
      "pygments_lexer": "ipython3",
      "version": "3.6.5"
    },
    "kernelspec": {
      "name": "python3",
      "display_name": "Python 3"
    },
    "accelerator": "GPU"
  },
  "cells": [
    {
      "cell_type": "markdown",
      "metadata": {
        "id": "5PieoJ9GKqRh",
        "colab_type": "text"
      },
      "source": [
        "# Generating names with recurrent neural networks\n",
        "\n",
        "This time you'll find yourself delving into the heart (and other intestines) of recurrent neural networks on a class of toy problems.\n",
        "\n",
        "Struggle to find a name for the variable? Let's see how you'll come up with a name for your son/daughter. Surely no human has expertize over what is a good child name, so let us train RNN instead;\n",
        "\n",
        "It's dangerous to go alone, take these:"
      ]
    },
    {
      "cell_type": "code",
      "metadata": {
        "ExecuteTime": {
          "end_time": "2018-08-13T20:26:42.696201Z",
          "start_time": "2018-08-13T20:26:38.104103Z"
        },
        "id": "UIfN-28WKqRo",
        "colab_type": "code",
        "outputId": "21157edf-9986-487b-8c82-7d03ab1ca9c8",
        "colab": {
          "base_uri": "https://localhost:8080/",
          "height": 255
        }
      },
      "source": [
        "! shred -u setup_google_colab.py\n",
        "! wget https://raw.githubusercontent.com/hse-aml/intro-to-dl/master/setup_google_colab.py -O setup_google_colab.py\n",
        "import setup_google_colab\n",
        "# please, uncomment the week you're working on\n",
        "# setup_google_colab.setup_week1()\n",
        "# setup_google_colab.setup_week2()\n",
        "# setup_google_colab.setup_week3()\n",
        "# setup_google_colab.setup_week4()\n",
        "setup_google_colab.setup_week5()\n",
        "# setup_google_colab.setup_week6()\n",
        "\n",
        "# If you're using the old version of the course (check a path of notebook on Coursera, you'll see v1 or v2),\n",
        "# use setup_week2_old().\n",
        "import tensorflow as tf\n",
        "print(tf.__version__)\n",
        "import numpy as np\n",
        "import matplotlib.pyplot as plt\n",
        "%matplotlib inline\n",
        "import os\n",
        "import sys\n",
        "sys.path.append(\"..\")\n",
        "import keras_utils\n",
        "import tqdm_utils"
      ],
      "execution_count": 1,
      "outputs": [
        {
          "output_type": "stream",
          "text": [
            "shred: setup_google_colab.py: failed to open for writing: No such file or directory\n",
            "--2019-07-13 07:08:45--  https://raw.githubusercontent.com/hse-aml/intro-to-dl/master/setup_google_colab.py\n",
            "Resolving raw.githubusercontent.com (raw.githubusercontent.com)... 151.101.0.133, 151.101.64.133, 151.101.128.133, ...\n",
            "Connecting to raw.githubusercontent.com (raw.githubusercontent.com)|151.101.0.133|:443... connected.\n",
            "HTTP request sent, awaiting response... 200 OK\n",
            "Length: 3792 (3.7K) [text/plain]\n",
            "Saving to: ‘setup_google_colab.py’\n",
            "\n",
            "setup_google_colab. 100%[===================>]   3.70K  --.-KB/s    in 0s      \n",
            "\n",
            "2019-07-13 07:08:51 (39.4 MB/s) - ‘setup_google_colab.py’ saved [3792/3792]\n",
            "\n",
            "1.14.0\n"
          ],
          "name": "stdout"
        },
        {
          "output_type": "stream",
          "text": [
            "Using TensorFlow backend.\n"
          ],
          "name": "stderr"
        }
      ]
    },
    {
      "cell_type": "markdown",
      "metadata": {
        "id": "mYJkG_pbKqRy",
        "colab_type": "text"
      },
      "source": [
        "# Load data\n",
        "The dataset contains ~8k earthling names from different cultures, all in latin transcript.\n",
        "\n",
        "This notebook has been designed so as to allow you to quickly swap names for something similar: deep learning article titles, IKEA furniture, pokemon names, etc."
      ]
    },
    {
      "cell_type": "code",
      "metadata": {
        "ExecuteTime": {
          "end_time": "2018-08-13T20:26:42.701832Z",
          "start_time": "2018-08-13T20:26:42.697766Z"
        },
        "id": "8pjB7NusKqR2",
        "colab_type": "code",
        "colab": {}
      },
      "source": [
        "start_token = \" \"  # so that the network knows that we're generating a first token\n",
        "\n",
        "# this is the token for padding,\n",
        "# we will add fake pad token at the end of names \n",
        "# to make them of equal size for further batching\n",
        "pad_token = \"#\"\n",
        "\n",
        "with open(\"names\") as f:\n",
        "    names = f.read()[:-1].split('\\n')\n",
        "    names = [start_token + name for name in names]"
      ],
      "execution_count": 0,
      "outputs": []
    },
    {
      "cell_type": "code",
      "metadata": {
        "id": "3anVxfBdLzR5",
        "colab_type": "code",
        "outputId": "67ac5cbc-463f-40f8-ad1c-416aaff47dde",
        "colab": {
          "base_uri": "https://localhost:8080/",
          "height": 54
        }
      },
      "source": [
        "print(names)"
      ],
      "execution_count": 15,
      "outputs": [
        {
          "output_type": "stream",
          "text": [
            "[' Abagael', ' Abagail', ' Abbe', ' Abbey', ' Abbi', ' Abbie', ' Abby', ' Abigael', ' Abigail', ' Abigale', ' Abra', ' Acacia', ' Ada', ' Adah', ' Adaline', ' Adara', ' Addie', ' Addis', ' Adel', ' Adela', ' Adelaide', ' Adele', ' Adelice', ' Adelina', ' Adelind', ' Adeline', ' Adella', ' Adelle', ' Adena', ' Adey', ' Adi', ' Adiana', ' Adina', ' Adora', ' Adore', ' Adoree', ' Adorne', ' Adrea', ' Adria', ' Adriaens', ' Adrian', ' Adriana', ' Adriane', ' Adrianna', ' Adrianne', ' Adrien', ' Adriena', ' Adrienne', ' Aeriel', ' Aeriela', ' Aeriell', ' Ag', ' Agace', ' Agata', ' Agatha', ' Agathe', ' Aggi', ' Aggie', ' Aggy', ' Agna', ' Agnella', ' Agnes', ' Agnese', ' Agnesse', ' Agneta', ' Agnola', ' Agretha', ' Aida', ' Aidan', ' Aigneis', ' Aila', ' Aile', ' Ailee', ' Aileen', ' Ailene', ' Ailey', ' Aili', ' Ailina', ' Ailyn', ' Aime', ' Aimee', ' Aimil', ' Aina', ' Aindrea', ' Ainslee', ' Ainsley', ' Ainslie', ' Ajay', ' Alaine', ' Alameda', ' Alana', ' Alanah', ' Alane', ' Alanna', ' Alayne', ' Alberta', ' Albertina', ' Albertine', ' Albina', ' Alecia', ' Aleda', ' Aleece', ' Aleecia', ' Aleen', ' Alejandra', ' Alejandrina', ' Alena', ' Alene', ' Alessandra', ' Aleta', ' Alethea', ' Alex', ' Alexa', ' Alexandra', ' Alexandrina', ' Alexi', ' Alexia', ' Alexina', ' Alexine', ' Alexis', ' Alfie', ' Alfreda', ' Ali', ' Alia', ' Alica', ' Alice', ' Alicea', ' Alicia', ' Alida', ' Alidia', ' Alina', ' Aline', ' Alis', ' Alisa', ' Alisha', ' Alison', ' Alissa', ' Alisun', ' Alix', ' Aliza', ' Alla', ' Alleen', ' Allegra', ' Allene', ' Alli', ' Allianora', ' Allie', ' Allina', ' Allis', ' Allison', ' Allissa', ' Allsun', ' Ally', ' Allyce', ' Allyn', ' Allys', ' Allyson', ' Alma', ' Almeda', ' Almeria', ' Almeta', ' Almira', ' Almire', ' Aloise', ' Aloisia', ' Aloysia', ' Alpa', ' Alta', ' Althea', ' Alvera', ' Alvina', ' Alvinia', ' Alvira', ' Alyce', ' Alyda', ' Alys', ' Alysa', ' Alyse', ' Alysia', ' Alyson', ' Alyss', ' Alyssa', ' Amabel', ' Amabelle', ' Amalea', ' Amalee', ' Amaleta', ' Amalia', ' Amalie', ' Amalita', ' Amalle', ' Amanda', ' Amandi', ' Amandie', ' Amandy', ' Amara', ' Amargo', ' Amata', ' Amber', ' Amberly', ' Ambrosia', ' Ambur', ' Ame', ' Amelia', ' Amelie', ' Amelina', ' Ameline', ' Amelita', ' Ami', ' Amie', ' Amity', ' Ammamaria', ' Amy', ' Ana', ' Anabel', ' Anabella', ' Anabelle', ' Anais', ' Analiese', ' Analise', ' Anallese', ' Anallise', ' Anastasia', ' Anastasie', ' Anastassia', ' Anatola', ' Andee', ' Andi', ' Andie', ' Andra', ' Andrea', ' Andreana', ' Andree', ' Andrei', ' Andria', ' Andriana', ' Andriette', ' Andromache', ' Andromeda', ' Andy', ' Anestassia', ' Anet', ' Anett', ' Anetta', ' Anette', ' Ange', ' Angel', ' Angela', ' Angele', ' Angelia', ' Angelica', ' Angelika', ' Angelina', ' Angeline', ' Angelique', ' Angelita', ' Angelle', ' Angie', ' Angil', ' Angy', ' Ania', ' Anica', ' Anissa', ' Anita', ' Anitra', ' Anja', ' Anjanette', ' Anjela', ' Ann', ' Ann-Mari', ' Ann-Marie', ' Anna', ' Anna-Diana', ' Anna-Diane', ' Anna-Maria', ' Annabal', ' Annabel', ' Annabela', ' Annabell', ' Annabella', ' Annabelle', ' Annadiana', ' Annadiane', ' Annalee', ' Annalena', ' Annaliese', ' Annalisa', ' Annalise', ' Annalyse', ' Annamari', ' Annamaria', ' Annamarie', ' Anne', ' Anne-Corinne', ' Anne-Mar', ' Anne-Marie', ' Annecorinne', ' Anneliese', ' Annelise', ' Annemarie', ' Annetta', ' Annette', ' Anni', ' Annice', ' Annie', ' Annissa', ' Annmaria', ' Annmarie', ' Annnora', ' Annora', ' Anny', ' Anselma', ' Ansley', ' Anstice', ' Anthe', ' Anthea', ' Anthia', ' Antoinette', ' Antonella', ' Antonetta', ' Antonia', ' Antonie', ' Antonietta', ' Antonina', ' Anya', ' Aphrodite', ' Appolonia', ' April', ' Aprilette', ' Ara', ' Arabel', ' Arabela', ' Arabele', ' Arabella', ' Arabelle', ' Arda', ' Ardath', ' Ardeen', ' Ardelia', ' Ardelis', ' Ardella', ' Ardelle', ' Arden', ' Ardene', ' Ardenia', ' Ardine', ' Ardis', ' Ardith', ' Ardra', ' Ardyce', ' Ardys', ' Ardyth', ' Aretha', ' Ariadne', ' Ariana', ' Arianne', ' Aridatha', ' Ariel', ' Ariela', ' Ariella', ' Arielle', ' Arlana', ' Arlee', ' Arleen', ' Arlen', ' Arlena', ' Arlene', ' Arleta', ' Arlette', ' Arleyne', ' Arlie', ' Arliene', ' Arlina', ' Arlinda', ' Arline', ' Arly', ' Arlyn', ' Arlyne', ' Aryn', ' Ashely', ' Ashlee', ' Ashleigh', ' Ashlen', ' Ashley', ' Ashli', ' Ashlie', ' Ashly', ' Asia', ' Astra', ' Astrid', ' Astrix', ' Atalanta', ' Athena', ' Athene', ' Atlanta', ' Atlante', ' Auberta', ' Aubine', ' Aubree', ' Aubrette', ' Aubrey', ' Aubrie', ' Aubry', ' Audi', ' Audie', ' Audra', ' Audre', ' Audrey', ' Audrie', ' Audry', ' Audrye', ' Audy', ' Augusta', ' Auguste', ' Augustina', ' Augustine', ' Aura', ' Aurea', ' Aurel', ' Aurelea', ' Aurelia', ' Aurelie', ' Auria', ' Aurie', ' Aurilia', ' Aurlie', ' Auroora', ' Aurora', ' Aurore', ' Austin', ' Austina', ' Austine', ' Ava', ' Aveline', ' Averil', ' Averyl', ' Avie', ' Avis', ' Aviva', ' Avivah', ' Avril', ' Avrit', ' Ayn', ' Bab', ' Babara', ' Babette', ' Babita', ' Babs', ' Bambi', ' Bambie', ' Bamby', ' Barb', ' Barbabra', ' Barbara', ' Barbara-Anne', ' Barbaraanne', ' Barbe', ' Barbee', ' Barbette', ' Barbey', ' Barbi', ' Barbie', ' Barbra', ' Barby', ' Bari', ' Barrie', ' Barry', ' Basia', ' Bathsheba', ' Batsheva', ' Bea', ' Beatrice', ' Beatrisa', ' Beatrix', ' Beatriz', ' Beau', ' Bebe', ' Becca', ' Becka', ' Becki', ' Beckie', ' Becky', ' Bee', ' Beilul', ' Beitris', ' Bekki', ' Bel', ' Belia', ' Belicia', ' Belinda', ' Belita', ' Bell', ' Bella', ' Bellamy', ' Bellanca', ' Belle', ' Bellina', ' Belva', ' Belvia', ' Bendite', ' Benedetta', ' Benedicta', ' Benedikta', ' Benetta', ' Benita', ' Benni', ' Bennie', ' Benny', ' Benoite', ' Berenice', ' Beret', ' Berget', ' Berna', ' Bernadene', ' Bernadette', ' Bernadina', ' Bernadine', ' Bernardina', ' Bernardine', ' Bernelle', ' Bernete', ' Bernetta', ' Bernette', ' Berni', ' Bernice', ' Bernie', ' Bernita', ' Berny', ' Berri', ' Berrie', ' Berry', ' Bert', ' Berta', ' Berte', ' Bertha', ' Berthe', ' Berti', ' Bertie', ' Bertina', ' Bertine', ' Berty', ' Beryl', ' Beryle', ' Bess', ' Bessie', ' Bessy', ' Beth', ' Bethanne', ' Bethany', ' Bethena', ' Bethina', ' Betsey', ' Betsy', ' Betta', ' Bette', ' Bette-Ann', ' Betteann', ' Betteanne', ' Betti', ' Bettie', ' Bettina', ' Bettine', ' Betty', ' Bettye', ' Beulah', ' Bev', ' Beverie', ' Beverlee', ' Beverlie', ' Beverly', ' Bevvy', ' Bianca', ' Bianka', ' Biddy', ' Bidget', ' Bill', ' Billi', ' Billie', ' Billy', ' Binni', ' Binnie', ' Binny', ' Bird', ' Birdie', ' Birgit', ' Birgitta', ' Blair', ' Blaire', ' Blake', ' Blakelee', ' Blakeley', ' Blanca', ' Blanch', ' Blancha', ' Blanche', ' Blinni', ' Blinnie', ' Blinny', ' Bliss', ' Blisse', ' Blithe', ' Blondell', ' Blondelle', ' Blondie', ' Blondy', ' Blythe', ' Bo', ' Bobbette', ' Bobbi', ' Bobbie', ' Bobby', ' Bobette', ' Bobina', ' Bobine', ' Bobinette', ' Bonita', ' Bonnee', ' Bonni', ' Bonnie', ' Bonny', ' Brana', ' Brandais', ' Brande', ' Brandea', ' Brandi', ' Brandice', ' Brandie', ' Brandise', ' Brandy', ' Brea', ' Breanne', ' Brear', ' Bree', ' Breena', ' Bren', ' Brena', ' Brenda', ' Brenn', ' Brenna', ' Brett', ' Bria', ' Briana', ' Brianna', ' Brianne', ' Bride', ' Bridget', ' Bridgett', ' Bridgette', ' Bridie', ' Brier', ' Brietta', ' Brigid', ' Brigida', ' Brigit', ' Brigitta', ' Brigitte', ' Brina', ' Briney', ' Briny', ' Brit', ' Brita', ' Britaney', ' Britani', ' Briteny', ' Britney', ' Britni', ' Britt', ' Britta', ' Brittan', ' Brittany', ' Britte', ' Brittney', ' Brook', ' Brooke', ' Brooks', ' Brunella', ' Brunhilda', ' Brunhilde', ' Bryana', ' Bryn', ' Bryna', ' Brynn', ' Brynna', ' Brynne', ' Buffy', ' Bunni', ' Bunnie', ' Bunny', ' Burta', ' Cabrina', ' Cacilia', ' Cacilie', ' Caitlin', ' Caitrin', ' Cal', ' Calida', ' Calla', ' Calley', ' Calli', ' Callida', ' Callie', ' Cally', ' Calypso', ' Cam', ' Camala', ' Camel', ' Camella', ' Camellia', ' Cameo', ' Cami', ' Camila', ' Camile', ' Camilla', ' Camille', ' Cammi', ' Cammie', ' Cammy', ' Canada', ' Candace', ' Candi', ' Candice', ' Candida', ' Candide', ' Candie', ' Candis', ' Candra', ' Candy', ' Cappella', ' Caprice', ' Cara', ' Caralie', ' Caren', ' Carena', ' Caresa', ' Caressa', ' Caresse', ' Carey', ' Cari', ' Caria', ' Carie', ' Caril', ' Carilyn', ' Carin', ' Carina', ' Carine', ' Cariotta', ' Carissa', ' Carita', ' Caritta', ' Carla', ' Carlee', ' Carleen', ' Carlen', ' Carlena', ' Carlene', ' Carley', ' Carli', ' Carlie', ' Carlin', ' Carlina', ' Carline', ' Carlisle', ' Carlita', ' Carlota', ' Carlotta', ' Carly', ' Carlye', ' Carlyn', ' Carlynn', ' Carlynne', ' Carma', ' Carmel', ' Carmela', ' Carmelia', ' Carmelina', ' Carmelita', ' Carmella', ' Carmelle', ' Carmen', ' Carmina', ' Carmine', ' Carmita', ' Carmon', ' Caro', ' Carol', ' Carol-Jean', ' Carola', ' Carolan', ' Carolann', ' Carole', ' Carolee', ' Caroleen', ' Carolie', ' Carolin', ' Carolina', ' Caroline', ' Caroljean', ' Carolyn', ' Carolyne', ' Carolynn', ' Caron', ' Carree', ' Carri', ' Carrie', ' Carrissa', ' Carrol', ' Carroll', ' Carry', ' Cary', ' Caryl', ' Caryn', ' Casandra', ' Casey', ' Casi', ' Casia', ' Casie', ' Cass', ' Cassandra', ' Cassandre', ' Cassandry', ' Cassaundra', ' Cassey', ' Cassi', ' Cassie', ' Cassondra', ' Cassy', ' Cat', ' Catarina', ' Cate', ' Caterina', ' Catha', ' Catharina', ' Catharine', ' Cathe', ' Cathee', ' Catherin', ' Catherina', ' Catherine', ' Cathi', ' Cathie', ' Cathleen', ' Cathlene', ' Cathrin', ' Cathrine', ' Cathryn', ' Cathy', ' Cathyleen', ' Cati', ' Catie', ' Catina', ' Catlaina', ' Catlee', ' Catlin', ' Catrina', ' Catriona', ' Caty', ' Cayla', ' Cecelia', ' Cecil', ' Cecile', ' Ceciley', ' Cecilia', ' Cecilla', ' Cecily', ' Ceil', ' Cele', ' Celene', ' Celesta', ' Celeste', ' Celestia', ' Celestina', ' Celestine', ' Celestyn', ' Celestyna', ' Celia', ' Celie', ' Celina', ' Celinda', ' Celine', ' Celinka', ' Celisse', ' Celle', ' Cesya', ' Chad', ' Chanda', ' Chandal', ' Chandra', ' Channa', ' Chantal', ' Chantalle', ' Charil', ' Charin', ' Charis', ' Charissa', ' Charisse', ' Charita', ' Charity', ' Charla', ' Charlean', ' Charleen', ' Charlena', ' Charlene', ' Charline', ' Charlot', ' Charlott', ' Charlotta', ' Charlotte', ' Charmain', ' Charmaine', ' Charmane', ' Charmian', ' Charmine', ' Charmion', ' Charo', ' Charyl', ' Chastity', ' Chelsae', ' Chelsea', ' Chelsey', ' Chelsie', ' Chelsy', ' Cher', ' Chere', ' Cherey', ' Cheri', ' Cherianne', ' Cherice', ' Cherida', ' Cherie', ' Cherilyn', ' Cherilynn', ' Cherin', ' Cherise', ' Cherish', ' Cherlyn', ' Cherri', ' Cherrita', ' Cherry', ' Chery', ' Cherye', ' Cheryl', ' Cheslie', ' Chiarra', ' Chickie', ' Chicky', ' Chiquita', ' Chloe', ' Chloette', ' Chloris', ' Chris', ' Chriss', ' Chrissa', ' Chrissie', ' Chrissy', ' Christa', ' Christabel', ' Christabella', ' Christabelle', ' Christal', ' Christalle', ' Christan', ' Christean', ' Christel', ' Christen', ' Christi', ' Christian', ' Christiana', ' Christiane', ' Christie', ' Christin', ' Christina', ' Christine', ' Christy', ' Christyna', ' Chrysa', ' Chrysler', ' Chrystal', ' Chryste', ' Chrystel', ' Ciara', ' Cicely', ' Cicily', ' Ciel', ' Cilka', ' Cinda', ' Cindee', ' Cindelyn', ' Cinderella', ' Cindi', ' Cindie', ' Cindra', ' Cindy', ' Cinnamon', ' Cissie', ' Cissy', ' Clair', ' Claire', ' Clara', ' Clarabelle', ' Clare', ' Claresta', ' Clareta', ' Claretta', ' Clarette', ' Clarey', ' Clari', ' Claribel', ' Clarice', ' Clarie', ' Clarinda', ' Clarine', ' Clarisa', ' Clarissa', ' Clarisse', ' Clarita', ' Clary', ' Claude', ' Claudelle', ' Claudetta', ' Claudette', ' Claudia', ' Claudie', ' Claudina', ' Claudine', ' Clea', ' Clem', ' Clemence', ' Clementia', ' Clementina', ' Clementine', ' Clemmie', ' Clemmy', ' Cleo', ' Cleopatra', ' Clerissa', ' Cleva', ' Clio', ' Clo', ' Cloe', ' Cloris', ' Clotilda', ' Clovis', ' Codee', ' Codi', ' Codie', ' Cody', ' Coleen', ' Colene', ' Coletta', ' Colette', ' Colleen', ' Collete', ' Collette', ' Collie', ' Colline', ' Colly', ' Con', ' Concettina', ' Conchita', ' Concordia', ' Conney', ' Conni', ' Connie', ' Conny', ' Consolata', ' Constance', ' Constancia', ' Constancy', ' Constanta', ' Constantia', ' Constantina', ' Constantine', ' Consuela', ' Consuelo', ' Cookie', ' Cora', ' Corabel', ' Corabella', ' Corabelle', ' Coral', ' Coralie', ' Coraline', ' Coralyn', ' Cordelia', ' Cordelie', ' Cordey', ' Cordie', ' Cordula', ' Cordy', ' Coreen', ' Corella', ' Corena', ' Corenda', ' Corene', ' Coretta', ' Corette', ' Corey', ' Cori', ' Corie', ' Corilla', ' Corina', ' Corine', ' Corinna', ' Corinne', ' Coriss', ' Corissa', ' Corliss', ' Corly', ' Cornela', ' Cornelia', ' Cornelle', ' Cornie', ' Corny', ' Correna', ' Correy', ' Corri', ' Corrianne', ' Corrie', ' Corrina', ' Corrine', ' Corrinne', ' Corry', ' Cortney', ' Cory', ' Cosetta', ' Cosette', ' Courtenay', ' Courtney', ' Cresa', ' Cris', ' Crissie', ' Crissy', ' Crista', ' Cristabel', ' Cristal', ' Cristen', ' Cristi', ' Cristie', ' Cristin', ' Cristina', ' Cristine', ' Cristionna', ' Cristy', ' Crysta', ' Crystal', ' Crystie', ' Cyb', ' Cybal', ' Cybel', ' Cybelle', ' Cybil', ' Cybill', ' Cyndi', ' Cyndy', ' Cynthea', ' Cynthia', ' Cynthie', ' Cynthy', ' Dacey', ' Dacia', ' Dacie', ' Dacy', ' Dael', ' Daffi', ' Daffie', ' Daffy', ' Dafna', ' Dagmar', ' Dahlia', ' Daile', ' Daisey', ' Daisi', ' Daisie', ' Daisy', ' Dale', ' Dalenna', ' Dalia', ' Dalila', ' Dallas', ' Daloris', ' Damara', ' Damaris', ' Damita', ' Dana', ' Danell', ' Danella', ' Danelle', ' Danette', ' Dani', ' Dania', ' Danica', ' Danice', ' Daniel', ' Daniela', ' Daniele', ' Daniella', ' Danielle', ' Danika', ' Danila', ' Danit', ' Danita', ' Danna', ' Danni', ' Dannie', ' Danny', ' Dannye', ' Danya', ' Danyelle', ' Danyette', ' Daphene', ' Daphna', ' Daphne', ' Dara', ' Darb', ' Darbie', ' Darby', ' Darcee', ' Darcey', ' Darci', ' Darcie', ' Darcy', ' Darda', ' Dareen', ' Darell', ' Darelle', ' Dari', ' Daria', ' Darice', ' Darla', ' Darleen', ' Darlene', ' Darline', ' Darryl', ' Darsey', ' Darsie', ' Darya', ' Daryl', ' Daryn', ' Dasha', ' Dasi', ' Dasie', ' Dasya', ' Datha', ' Daune', ' Daveen', ' Daveta', ' Davida', ' Davina', ' Davine', ' Davita', ' Dawn', ' Dawna', ' Dayle', ' Dayna', ' Dea', ' Deana', ' Deane', ' Deanna', ' Deanne', ' Deb', ' Debbi', ' Debbie', ' Debbra', ' Debby', ' Debee', ' Debera', ' Debi', ' Debor', ' Debora', ' Deborah', ' Debra', ' Dede', ' Dedie', ' Dedra', ' Dee', ' Dee Dee', ' Deeann', ' Deeanne', ' Deedee', ' Deena', ' Deerdre', ' Dehlia', ' Deidre', ' Deina', ' Deirdre', ' Del', ' Dela', ' Delaney', ' Delcina', ' Delcine', ' Delia', ' Delila', ' Delilah', ' Delinda', ' Dell', ' Della', ' Delly', ' Delora', ' Delores', ' Deloria', ' Deloris', ' Delphina', ' Delphine', ' Delphinia', ' Demeter', ' Demetra', ' Demetria', ' Demetris', ' Dena', ' Deni', ' Denice', ' Denise', ' Denna', ' Denni', ' Dennie', ' Denny', ' Deny', ' Denys', ' Denyse', ' Deonne', ' Desaree', ' Desdemona', ' Desirae', ' Desiree', ' Desiri', ' Deva', ' Devan', ' Devi', ' Devin', ' Devina', ' Devinne', ' Devon', ' Devondra', ' Devonna', ' Devonne', ' Devora', ' Dew', ' Di', ' Diahann', ' Diamond', ' Dian', ' Diana', ' Diandra', ' Diane', ' Diane-Marie', ' Dianemarie', ' Diann', ' Dianna', ' Dianne', ' Diannne', ' Didi', ' Dido', ' Diena', ' Dierdre', ' Dina', ' Dinah', ' Dinnie', ' Dinny', ' Dion', ' Dione', ' Dionis', ' Dionne', ' Dita', ' Dix', ' Dixie', ' Dode', ' Dodi', ' Dodie', ' Dody', ' Doe', ' Doll', ' Dolley', ' Dolli', ' Dollie', ' Dolly', ' Dolora', ' Dolores', ' Dolorita', ' Doloritas', ' Dominica', ' Dominique', ' Dona', ' Donella', ' Donelle', ' Donetta', ' Donia', ' Donica', ' Donielle', ' Donna', ' Donnajean', ' Donnamarie', ' Donni', ' Donnie', ' Donny', ' Dora', ' Doralia', ' Doralin', ' Doralyn', ' Doralynn', ' Doralynne', ' Dorcas', ' Dore', ' Doreen', ' Dorelia', ' Dorella', ' Dorelle', ' Dorena', ' Dorene', ' Doretta', ' Dorette', ' Dorey', ' Dori', ' Doria', ' Dorian', ' Dorice', ' Dorie', ' Dorine', ' Doris', ' Dorisa', ' Dorise', ' Dorit', ' Dorita', ' Doro', ' Dorolice', ' Dorolisa', ' Dorotea', ' Doroteya', ' Dorothea', ' Dorothee', ' Dorothy', ' Dorree', ' Dorri', ' Dorrie', ' Dorris', ' Dorry', ' Dorthea', ' Dorthy', ' Dory', ' Dosi', ' Dot', ' Doti', ' Dotti', ' Dottie', ' Dotty', ' Dove', ' Drea', ' Drew', ' Dulce', ' Dulcea', ' Dulci', ' Dulcia', ' Dulciana', ' Dulcie', ' Dulcine', ' Dulcinea', ' Dulcy', ' Dulsea', ' Dusty', ' Dyan', ' Dyana', ' Dyane', ' Dyann', ' Dyanna', ' Dyanne', ' Dyna', ' Dynah', \" E'Lane\", ' Eada', ' Eadie', ' Eadith', ' Ealasaid', ' Eartha', ' Easter', ' Eba', ' Ebba', ' Ebonee', ' Ebony', ' Eda', ' Eddi', ' Eddie', ' Eddy', ' Ede', ' Edee', ' Edeline', ' Eden', ' Edi', ' Edie', ' Edin', ' Edita', ' Edith', ' Editha', ' Edithe', ' Ediva', ' Edna', ' Edwina', ' Edy', ' Edyth', ' Edythe', ' Effie', ' Eileen', ' Eilis', ' Eimile', ' Eirena', ' Ekaterina', ' Elaina', ' Elaine', ' Elana', ' Elane', ' Elayne', ' Elberta', ' Elbertina', ' Elbertine', ' Eleanor', ' Eleanora', ' Eleanore', ' Electra', ' Elena', ' Elene', ' Eleni', ' Elenore', ' Eleonora', ' Eleonore', ' Elfie', ' Elfreda', ' Elfrida', ' Elfrieda', ' Elga', ' Elianora', ' Elianore', ' Elicia', ' Elie', ' Elinor', ' Elinore', ' Elisa', ' Elisabet', ' Elisabeth', ' Elisabetta', ' Elise', ' Elisha', ' Elissa', ' Elita', ' Eliza', ' Elizabet', ' Elizabeth', ' Elka', ' Elke', ' Ella', ' Elladine', ' Elle', ' Ellen', ' Ellene', ' Ellette', ' Elli', ' Ellie', ' Ellissa', ' Elly', ' Ellyn', ' Ellynn', ' Elmira', ' Elna', ' Elnora', ' Elnore', ' Eloisa', ' Eloise', ' Elonore', ' Elora', ' Elsa', ' Elsbeth', ' Else', ' Elsey', ' Elsi', ' Elsie', ' Elsinore', ' Elspeth', ' Elsy', ' Elva', ' Elvera', ' Elvina', ' Elvira', ' Elwina', ' Elwira', ' Elyn', ' Elyse', ' Elysee', ' Elysha', ' Elysia', ' Elyssa', ' Em', ' Ema', ' Emalee', ' Emalia', ' Emanuela', ' Emelda', ' Emelia', ' Emelina', ' Emeline', ' Emelita', ' Emelyne', ' Emera', ' Emilee', ' Emili', ' Emilia', ' Emilie', ' Emiline', ' Emily', ' Emlyn', ' Emlynn', ' Emlynne', ' Emma', ' Emmalee', ' Emmaline', ' Emmalyn', ' Emmalynn', ' Emmalynne', ' Emmeline', ' Emmey', ' Emmi', ' Emmie', ' Emmy', ' Emmye', ' Emogene', ' Emyle', ' Emylee', ' Endora', ' Engracia', ' Enid', ' Enrica', ' Enrichetta', ' Enrika', ' Enriqueta', ' Enya', ' Eolanda', ' Eolande', ' Eran', ' Erda', ' Erena', ' Erica', ' Ericha', ' Ericka', ' Erika', ' Erin', ' Erina', ' Erinn', ' Erinna', ' Erma', ' Ermengarde', ' Ermentrude', ' Ermina', ' Erminia', ' Erminie', ' Erna', ' Ernaline', ' Ernesta', ' Ernestine', ' Ertha', ' Eryn', ' Esma', ' Esmaria', ' Esme', ' Esmeralda', ' Esmerelda', ' Essa', ' Essie', ' Essy', ' Esta', ' Estel', ' Estele', ' Estell', ' Estella', ' Estelle', ' Ester', ' Esther', ' Estrella', ' Estrellita', ' Ethel', ' Ethelda', ' Ethelin', ' Ethelind', ' Etheline', ' Ethelyn', ' Ethyl', ' Etta', ' Etti', ' Ettie', ' Etty', ' Eudora', ' Eugenia', ' Eugenie', ' Eugine', ' Eula', ' Eulalie', ' Eunice', ' Euphemia', ' Eustacia', ' Eva', ' Evaleen', ' Evangelia', ' Evangelin', ' Evangelina', ' Evangeline', ' Evania', ' Evanne', ' Eve', ' Eveleen', ' Evelina', ' Eveline', ' Evelyn', ' Evette', ' Evey', ' Evie', ' Evita', ' Evonne', ' Evvie', ' Evvy', ' Evy', ' Eyde', ' Eydie', ' Fabrianne', ' Fabrice', ' Fae', ' Faina', ' Faith', ' Fallon', ' Fan', ' Fanchette', ' Fanchon', ' Fancie', ' Fancy', ' Fanechka', ' Fania', ' Fanni', ' Fannie', ' Fanny', ' Fanya', ' Fara', ' Farah', ' Farand', ' Farica', ' Farra', ' Farrah', ' Farrand', ' Fatima', ' Faun', ' Faunie', ' Faustina', ' Faustine', ' Fawn', ' Fawna', ' Fawne', ' Fawnia', ' Fay', ' Faydra', ' Faye', ' Fayette', ' Fayina', ' Fayre', ' Fayth', ' Faythe', ' Federica', ' Fedora', ' Felecia', ' Felicdad', ' Felice', ' Felicia', ' Felicity', ' Felicle', ' Felipa', ' Felisha', ' Felita', ' Feliza', ' Fenelia', ' Feodora', ' Ferdinanda', ' Ferdinande', ' Fern', ' Fernanda', ' Fernande', ' Fernandina', ' Ferne', ' Fey', ' Fiann', ' Fianna', ' Fidela', ' Fidelia', ' Fidelity', ' Fifi', ' Fifine', ' Filia', ' Filide', ' Filippa', ' Fina', ' Fiona', ' Fionna', ' Fionnula', ' Fiorenze', ' Fleur', ' Fleurette', ' Flo', ' Flor', ' Flora', ' Florance', ' Flore', ' Florella', ' Florence', ' Florencia', ' Florentia', ' Florenza', ' Florette', ' Flori', ' Floria', ' Florice', ' Florida', ' Florie', ' Florina', ' Florinda', ' Floris', ' Florri', ' Florrie', ' Florry', ' Flory', ' Flossi', ' Flossie', ' Flossy', ' Flower', ' Fortuna', ' Fortune', ' Fran', ' France', ' Francene', ' Frances', ' Francesca', ' Francesmary', ' Francine', ' Francis', ' Francisca', ' Franciska', ' Francoise', ' Francyne', ' Frank', ' Frankie', ' Franky', ' Franni', ' Frannie', ' Franny', ' Frayda', ' Fred', ' Freda', ' Freddi', ' Freddie', ' Freddy', ' Fredelia', ' Frederica', ' Fredericka', ' Fredi', ' Fredia', ' Fredra', ' Fredrika', ' Freida', ' Frieda', ' Friederike', ' Fulvia', ' Gabbey', ' Gabbi', ' Gabbie', ' Gabey', ' Gabi', ' Gabie', ' Gabriel', ' Gabriela', ' Gabriell', ' Gabriella', ' Gabrielle', ' Gabriellia', ' Gabrila', ' Gaby', ' Gae', ' Gael', ' Gail', ' Gale', ' Gale ', ' Galina', ' Garland', ' Garnet', ' Garnette', ' Gates', ' Gavra', ' Gavrielle', ' Gay', ' Gayla', ' Gayle', ' Gayleen', ' Gaylene', ' Gaynor', ' Gelya', ' Gen', ' Gena', ' Gene', ' Geneva', ' Genevieve', ' Genevra', ' Genia', ' Genna', ' Genni', ' Gennie', ' Gennifer', ' Genny', ' Genovera', ' Genvieve', ' George', ' Georgeanna', ' Georgeanne', ' Georgena', ' Georgeta', ' Georgetta', ' Georgette', ' Georgia', ' Georgiamay', ' Georgiana', ' Georgianna', ' Georgianne', ' Georgie', ' Georgina', ' Georgine', ' Gera', ' Geralda', ' Geraldina', ' Geraldine', ' Gerda', ' Gerhardine', ' Geri', ' Gerianna', ' Gerianne', ' Gerladina', ' Germain', ' Germaine', ' Germana', ' Gerri', ' Gerrie', ' Gerrilee', ' Gerry', ' Gert', ' Gerta', ' Gerti', ' Gertie', ' Gertrud', ' Gertruda', ' Gertrude', ' Gertrudis', ' Gerty', ' Giacinta', ' Giana', ' Gianina', ' Gianna', ' Gigi', ' Gilberta', ' Gilberte', ' Gilbertina', ' Gilbertine', ' Gilda', ' Gill', ' Gillan', ' Gilli', ' Gillian', ' Gillie', ' Gilligan', ' Gilly', ' Gina', ' Ginelle', ' Ginevra', ' Ginger', ' Ginni', ' Ginnie', ' Ginnifer', ' Ginny', ' Giorgia', ' Giovanna', ' Gipsy', ' Giralda', ' Gisela', ' Gisele', ' Gisella', ' Giselle', ' Gizela', ' Glad', ' Gladi', ' Gladis', ' Gladys', ' Gleda', ' Glen', ' Glenda', ' Glenine', ' Glenn', ' Glenna', ' Glennie', ' Glennis', ' Glori', ' Gloria', ' Gloriana', ' Gloriane', ' Glorianna', ' Glory', ' Glyn', ' Glynda', ' Glynis', ' Glynnis', ' Godiva', ' Golda', ' Goldarina', ' Goldi', ' Goldia', ' Goldie', ' Goldina', ' Goldy', ' Grace', ' Gracia', ' Gracie', ' Grata', ' Gratia', ' Gratiana', ' Gray', ' Grayce', ' Grazia', ' Gredel', ' Greer', ' Greta', ' Gretal', ' Gretchen', ' Grete', ' Gretel', ' Grethel', ' Gretna', ' Gretta', ' Grier', ' Griselda', ' Grissel', ' Guendolen', ' Guenevere', ' Guenna', ' Guglielma', ' Gui', ' Guillema', ' Guillemette', ' Guinevere', ' Guinna', ' Gunilla', ' Gunvor', ' Gus', ' Gusella', ' Gussi', ' Gussie', ' Gussy', ' Gusta', ' Gusti', ' Gustie', ' Gusty', ' Gwen', ' Gwendolen', ' Gwendolin', ' Gwendolyn', ' Gweneth', ' Gwenette', ' Gwenn', ' Gwenneth', ' Gwenni', ' Gwennie', ' Gwenny', ' Gwenora', ' Gwenore', ' Gwyn', ' Gwyneth', ' Gwynne', ' Gypsy', ' Hadria', ' Hailee', ' Haily', ' Haleigh', ' Halette', ' Haley', ' Hali', ' Halie', ' Halimeda', ' Halley', ' Halli', ' Hallie', ' Hally', ' Hana', ' Hanna', ' Hannah', ' Hanni', ' Hannibal', ' Hannie', ' Hannis', ' Hanny', ' Happy', ' Harlene', ' Harley', ' Harli', ' Harlie', ' Harmonia', ' Harmonie', ' Harmony', ' Harri', ' Harrie', ' Harriet', ' Harriett', ' Harrietta', ' Harriette', ' Harriot', ' Harriott', ' Hatti', ' Hattie', ' Hatty', ' Havivah', ' Hayley', ' Hazel', ' Heath', ' Heather', ' Heda', ' Hedda', ' Heddi', ' Heddie', ' Hedi', ' Hedvig', ' Hedwig', ' Hedy', ' Heida', ' Heide', ' Heidi', ' Heidie', ' Helaina', ' Helaine', ' Helen', ' Helen-Elizabeth', ' Helena', ' Helene', ' Helga', ' Helge', ' Helise', ' Hellene', ' Helli', ' Heloise', ' Helsa', ' Helyn', ' Hendrika', ' Henka', ' Henrie', ' Henrieta', ' Henrietta', ' Henriette', ' Henryetta', ' Hephzibah', ' Hermia', ' Hermina', ' Hermine', ' Herminia', ' Hermione', ' Herta', ' Hertha', ' Hester', ' Hesther', ' Hestia', ' Hetti', ' Hettie', ' Hetty', ' Hilarie', ' Hilary', ' Hilda', ' Hildagard', ' Hildagarde', ' Hilde', ' Hildegaard', ' Hildegarde', ' Hildy', ' Hillary', ' Hilliary', ' Hinda', ' Holley', ' Holli', ' Hollie', ' Holly', ' Holly-Anne', ' Hollyanne', ' Honey', ' Honor', ' Honoria', ' Hope', ' Horatia', ' Hortense', ' Hortensia', ' Hulda', ' Hyacinth', ' Hyacintha', ' Hyacinthe', ' Hyacinthia', ' Hyacinthie', ' Hynda', ' Ianthe', ' Ibbie', ' Ibby', ' Ida', ' Idalia', ' Idalina', ' Idaline', ' Idell', ' Idelle', ' Idette', ' Ike', ' Ikey', ' Ilana', ' Ileana', ' Ileane', ' Ilene', ' Ilise', ' Ilka', ' Illa', ' Ilona', ' Ilsa', ' Ilse', ' Ilysa', ' Ilyse', ' Ilyssa', ' Imelda', ' Imogen', ' Imogene', ' Imojean', ' Ina', ' Inci', ' Indira', ' Ines', ' Inesita', ' Inessa', ' Inez', ' Inga', ' Ingaberg', ' Ingaborg', ' Inge', ' Ingeberg', ' Ingeborg', ' Inger', ' Ingrid', ' Ingunna', ' Inna', ' Ioana', ' Iolande', ' Iolanthe', ' Iona', ' Iormina', ' Ira', ' Irena', ' Irene', ' Irina', ' Iris', ' Irita', ' Irma', ' Isa', ' Isabeau', ' Isabel', ' Isabelita', ' Isabella', ' Isabelle', ' Isador', ' Isadora', ' Isadore', ' Isahella', ' Iseabal', ' Isidora', ' Isis', ' Isobel', ' Issi', ' Issie', ' Issy', ' Ivett', ' Ivette', ' Ivie', ' Ivonne', ' Ivory', ' Ivy', ' Izabel', ' Izzi', ' Jacenta', ' Jacinda', ' Jacinta', ' Jacintha', ' Jacinthe', ' Jackelyn', ' Jacki', ' Jackie', ' Jacklin', ' Jacklyn', ' Jackquelin', ' Jackqueline', ' Jacky', ' Jaclin', ' Jaclyn', ' Jacquelin', ' Jacqueline', ' Jacquelyn', ' Jacquelynn', ' Jacquenetta', ' Jacquenette', ' Jacquetta', ' Jacquette', ' Jacqui', ' Jacquie', ' Jacynth', ' Jada', ' Jade', ' Jaime', ' Jaimie', ' Jaine', ' Jaleh', ' Jami', ' Jamie', ' Jamima', ' Jammie', ' Jan', ' Jana', ' Janaya', ' Janaye', ' Jandy', ' Jane', ' Janean', ' Janeczka', ' Janeen', ' Janel', ' Janela', ' Janella', ' Janelle', ' Janene', ' Janenna', ' Janessa', ' Janet', ' Janeta', ' Janetta', ' Janette', ' Janeva', ' Janey', ' Jania', ' Janice', ' Janie', ' Janifer', ' Janina', ' Janine', ' Janis', ' Janith', ' Janka', ' Janna', ' Jannel', ' Jannelle', ' Janot', ' Jany', ' Jaquelin', ' Jaquelyn', ' Jaquenetta', ' Jaquenette', ' Jaquith', ' Jasmin', ' Jasmina', ' Jasmine', ' Jayme', ' Jaymee', ' Jayne', ' Jaynell', ' Jazmin', ' Jean', ' Jeana', ' Jeane', ' Jeanelle', ' Jeanette', ' Jeanie', ' Jeanine', ' Jeanna', ' Jeanne', ' Jeannette', ' Jeannie', ' Jeannine', ' Jehanna', ' Jelene', ' Jemie', ' Jemima', ' Jemimah', ' Jemmie', ' Jemmy', ' Jen', ' Jena', ' Jenda', ' Jenelle', ' Jenette', ' Jeni', ' Jenica', ' Jeniece', ' Jenifer', ' Jeniffer', ' Jenilee', ' Jenine', ' Jenn', ' Jenna', ' Jennee', ' Jennette', ' Jenni', ' Jennica', ' Jennie', ' Jennifer', ' Jennilee', ' Jennine', ' Jenny', ' Jeraldine', ' Jeralee', ' Jere', ' Jeri', ' Jermaine', ' Jerrie', ' Jerrilee', ' Jerrilyn', ' Jerrine', ' Jerry', ' Jerrylee', ' Jess', ' Jessa', ' Jessalin', ' Jessalyn', ' Jessamine', ' Jessamyn', ' Jesse', ' Jesselyn', ' Jessi', ' Jessica', ' Jessie', ' Jessika', ' Jessy', ' Jewel', ' Jewell', ' Jewelle', ' Jill', ' Jillana', ' Jillane', ' Jillayne', ' Jilleen', ' Jillene', ' Jilli', ' Jillian', ' Jillie', ' Jilly', ' Jinny', ' Jo', ' Jo Ann', ' Jo-Ann', ' Jo-Anne', ' JoAnn', ' JoAnne', ' Joan', ' Joana', ' Joane', ' Joanie', ' Joann', ' Joanna', ' Joanne', ' Joannes', ' Jobey', ' Jobi', ' Jobie', ' Jobina', ' Joby', ' Jobye', ' Jobyna', ' Jocelin', ' Joceline', ' Jocelyn', ' Jocelyne', ' Jodee', ' Jodi', ' Jodie', ' Jody', ' Joela', ' Joelie', ' Joell', ' Joella', ' Joelle', ' Joellen', ' Joelly', ' Joellyn', ' Joelynn', ' Joete', ' Joey', ' Johanna', ' Johannah', ' Johnette', ' Johnna', ' Joice', ' Jojo', ' Jolee', ' Joleen', ' Jolene', ' Joletta', ' Joli', ' Jolie', ' Joline', ' Joly', ' Jolyn', ' Jolynn', ' Jonell', ' Joni', ' Jonie', ' Jonis', ' Jordain', ' Jordan', ' Jordana', ' Jordanna', ' Jorey', ' Jori', ' Jorie', ' Jorrie', ' Jorry', ' Joscelin', ' Josee', ' Josefa', ' Josefina', ' Joselyn', ' Josepha', ' Josephina', ' Josephine', ' Josey', ' Josi', ' Josie', ' Joslyn', ' Josselyn', ' Josy', ' Jourdan', ' Joy', ' Joya', ' Joyan', ' Joyann', ' Joyce', ' Joycelin', ' Joye', ' Joyous', ' Juana', ' Juanita', ' Jude', ' Judi', ' Judie', ' Judith', ' Juditha', ' Judy', ' Judye', ' Julee', ' Juli', ' Julia', ' Juliana', ' Juliane', ' Juliann', ' Julianna', ' Julianne', ' Julie', ' Julienne', ' Juliet', ' Julieta', ' Julietta', ' Juliette', ' Julina', ' Juline', ' Julissa', ' Julita', ' June', ' Junette', ' Junia', ' Junie', ' Junina', ' Justin', ' Justina', ' Justine', ' Jyoti', ' Kacey', ' Kacie', ' Kacy', ' Kai', ' Kaia', ' Kaila', ' Kaile', ' Kailey', ' Kaitlin', ' Kaitlyn', ' Kaitlynn', ' Kaja', ' Kakalina', ' Kala', ' Kaleena', ' Kali', ' Kalie', ' Kalila', ' Kalina', ' Kalinda', ' Kalindi', ' Kalli', ' Kally', ' Kameko', ' Kamila', ' Kamilah', ' Kamillah', ' Kandace', ' Kandy', ' Kania', ' Kanya', ' Kara', ' Kara-Lynn', ' Karalee', ' Karalynn', ' Kare', ' Karee', ' Karel', ' Karen', ' Karena', ' Kari', ' Karia', ' Karie', ' Karil', ' Karilynn', ' Karin', ' Karina', ' Karine', ' Kariotta', ' Karisa', ' Karissa', ' Karita', ' Karla', ' Karlee', ' Karleen', ' Karlen', ' Karlene', ' Karlie', ' Karlotta', ' Karlotte', ' Karly', ' Karlyn', ' Karmen', ' Karna', ' Karol', ' Karola', ' Karole', ' Karolina', ' Karoline', ' Karoly', ' Karon', ' Karrah', ' Karrie', ' Karry', ' Kary', ' Karyl', ' Karylin', ' Karyn', ' Kasey', ' Kass', ' Kassandra', ' Kassey', ' Kassi', ' Kassia', ' Kassie', ' Kaster', ' Kat', ' Kata', ' Katalin', ' Kate', ' Katee', ' Katerina', ' Katerine', ' Katey', ' Kath', ' Katha', ' Katharina', ' Katharine', ' Katharyn', ' Kathe', ' Katheleen', ' Katherina', ' Katherine', ' Katheryn', ' Kathi', ' Kathie', ' Kathleen', ' Kathlene', ' Kathlin', ' Kathrine', ' Kathryn', ' Kathryne', ' Kathy', ' Kathye', ' Kati', ' Katie', ' Katina', ' Katine', ' Katinka', ' Katleen', ' Katlin', ' Katrina', ' Katrine', ' Katrinka', ' Katti', ' Kattie', ' Katuscha', ' Katusha', ' Katy', ' Katya', ' Kay', ' Kaycee', ' Kaye', ' Kayla', ' Kayle', ' Kaylee', ' Kayley', ' Kaylil', ' Kaylyn', ' Kee', ' Keeley', ' Keelia', ' Keely', ' Kelcey', ' Kelci', ' Kelcie', ' Kelcy', ' Kelila', ' Kellen', ' Kelley', ' Kelli', ' Kellia', ' Kellie', ' Kellina', ' Kellsie', ' Kelly', ' Kellyann', ' Kelsey', ' Kelsi', ' Kelsy', ' Kendra', ' Kendre', ' Kenna', ' Keren', ' Keri', ' Keriann', ' Kerianne', ' Kerri', ' Kerrie', ' Kerrill', ' Kerrin', ' Kerry', ' Kerstin', ' Kesley', ' Keslie', ' Kessia', ' Kessiah', ' Ketti', ' Kettie', ' Ketty', ' Kevina', ' Kevyn', ' Ki', ' Kia', ' Kiah', ' Kial', ' Kiele', ' Kiersten', ' Kikelia', ' Kiley', ' Kim', ' Kimberlee', ' Kimberley', ' Kimberli', ' Kimberly', ' Kimberlyn', ' Kimbra', ' Kimmi', ' Kimmie', ' Kimmy', ' Kinna', ' Kip', ' Kipp', ' Kippie', ' Kippy', ' Kira', ' Kirbee', ' Kirbie', ' Kirby', ' Kiri', ' Kirsten', ' Kirsteni', ' Kirsti', ' Kirstie', ' Kirstin', ' Kirstyn', ' Kissee', ' Kissiah', ' Kissie', ' Kit', ' Kitti', ' Kittie', ' Kitty', ' Kizzee', ' Kizzie', ' Klara', ' Klarika', ' Klarrisa', ' Konstance', ' Konstanze', ' Koo', ' Kora', ' Koral', ' Koralle', ' Kordula', ' Kore', ' Korella', ' Koren', ' Koressa', ' Kori', ' Korie', ' Korney', ' Korrie', ' Korry', ' Kourtney', ' Kris', ' Krissie', ' Krissy', ' Krista', ' Kristal', ' Kristan', ' Kriste', ' Kristel', ' Kristen', ' Kristi', ' Kristien', ' Kristin', ' Kristina', ' Kristine', ' Kristy', ' Kristyn', ' Krysta', ' Krystal', ' Krystalle', ' Krystle', ' Krystyna', ' Kyla', ' Kyle', ' Kylen', ' Kylie', ' Kylila', ' Kylynn', ' Kym', ' Kynthia', ' Kyrstin', ' La', ' Lacee', ' Lacey', ' Lacie', ' Lacy', ' Ladonna', ' Laetitia', ' Laila', ' Laina', ' Lainey', ' Lamb', ' Lana', ' Lane', ' Lanette', ' Laney', ' Lani', ' Lanie', ' Lanita', ' Lanna', ' Lanni', ' Lanny', ' Lara', ' Laraine', ' Lari', ' Larina', ' Larine', ' Larisa', ' Larissa', ' Lark', ' Laryssa', ' Latashia', ' Latia', ' Latisha', ' Latrena', ' Latrina', ' Laura', ' Lauraine', ' Laural', ' Lauralee', ' Laure', ' Lauree', ' Laureen', ' Laurel', ' Laurella', ' Lauren', ' Laurena', ' Laurene', ' Lauretta', ' Laurette', ' Lauri', ' Laurianne', ' Laurice', ' Laurie', ' Lauryn', ' Lavena', ' Laverna', ' Laverne', ' Lavina', ' Lavinia', ' Lavinie', ' Layla', ' Layne', ' Layney', ' Lea', ' Leah', ' Leandra', ' Leann', ' Leanna', ' Leanne', ' Leanor', ' Leanora', ' Lebbie', ' Leda', ' Lee', ' LeeAnn', ' Leeann', ' Leeanne', ' Leela', ' Leelah', ' Leena', ' Leesa', ' Leese', ' Legra', ' Leia', ' Leiah', ' Leigh', ' Leigha', ' Leila', ' Leilah', ' Leisha', ' Lela', ' Lelah', ' Leland', ' Lelia', ' Lena', ' Lenee', ' Lenette', ' Lenka', ' Lenna', ' Lenora', ' Lenore', ' Leodora', ' Leoine', ' Leola', ' Leoline', ' Leona', ' Leonanie', ' Leone', ' Leonelle', ' Leonie', ' Leonora', ' Leonore', ' Leontine', ' Leontyne', ' Leora', ' Leorah', ' Leshia', ' Lesley', ' Lesli', ' Leslie', ' Lesly', ' Lesya', ' Leta', ' Lethia', ' Leticia', ' Letisha', ' Letitia', ' Letta', ' Letti', ' Lettie', ' Letty', ' Leyla', ' Lezlie', ' Lia', ' Lian', ' Liana', ' Liane', ' Lianna', ' Lianne', ' Lib', ' Libbey', ' Libbi', ' Libbie', ' Libby', ' Licha', ' Lida', ' Lidia', ' Lil', ' Lila', ' Lilah', ' Lilas', ' Lilia', ' Lilian', ' Liliane', ' Lilias', ' Lilith', ' Lilla', ' Lilli', ' Lillian', ' Lillis', ' Lilllie', ' Lilly', ' Lily', ' Lilyan', ' Lin', ' Lina', ' Lind', ' Linda', ' Lindi', ' Lindie', ' Lindsay', ' Lindsey', ' Lindsy', ' Lindy', ' Linea', ' Linell', ' Linet', ' Linette', ' Linn', ' Linnea', ' Linnell', ' Linnet', ' Linnie', ' Linzy', ' Liora', ' Liorah', ' Lira', ' Lisa', ' Lisabeth', ' Lisandra', ' Lisbeth', ' Lise', ' Lisetta', ' Lisette', ' Lisha', ' Lishe', ' Lissa', ' Lissi', ' Lissie', ' Lissy', ' Lita', ' Liuka', ' Livia', ' Liz', ' Liza', ' Lizabeth', ' Lizbeth', ' Lizette', ' Lizzie', ' Lizzy', ' Loella', ' Lois', ' Loise', ' Lola', ' Lolande', ' Loleta', ' Lolita', ' Lolly', ' Lona', ' Lonee', ' Loni', ' Lonna', ' Lonni', ' Lonnie', ' Lora', ' Lorain', ' Loraine', ' Loralee', ' Loralie', ' Loralyn', ' Loree', ' Loreen', ' Lorelei', ' Lorelle', ' Loren', ' Lorena', ' Lorene', ' Lorenza', ' Loretta', ' Lorettalorna', ' Lorette', ' Lori', ' Loria', ' Lorianna', ' Lorianne', ' Lorie', ' Lorilee', ' Lorilyn', ' Lorinda', ' Lorine', ' Lorita', ' Lorna', ' Lorne', ' Lorraine', ' Lorrayne', ' Lorri', ' Lorrie', ' Lorrin', ' Lorry', ' Lory', ' Lotta', ' Lotte', ' Lotti', ' Lottie', ' Lotty', ' Lou', ' Louella', ' Louisa', ' Louise', ' Louisette', ' Love', ' Luana', ' Luanna', ' Luce', ' Luci', ' Lucia', ' Luciana', ' Lucie', ' Lucienne', ' Lucila', ' Lucilia', ' Lucille', ' Lucina', ' Lucinda', ' Lucine', ' Lucita', ' Lucky', ' Lucretia', ' Lucy', ' Luella', ' Luelle', ' Luisa', ' Luise', ' Lula', ' Lulita', ' Lulu', ' Luna', ' Lura', ' Lurette', ' Lurleen', ' Lurlene', ' Lurline', ' Lusa', ' Lust', ' Lyda', ' Lydia', ' Lydie', ' Lyn', ' Lynda', ' Lynde', ' Lyndel', ' Lyndell', ' Lyndsay', ' Lyndsey', ' Lyndsie', ' Lyndy', ' Lynea', ' Lynelle', ' Lynett', ' Lynette', ' Lynn', ' Lynna', ' Lynne', ' Lynnea', ' Lynnell', ' Lynnelle', ' Lynnet', ' Lynnett', ' Lynnette', ' Lynsey', ' Lysandra', ' Lyssa', ' Mab', ' Mabel', ' Mabelle', ' Mable', ' Mada', ' Madalena', ' Madalyn', ' Maddalena', ' Maddi', ' Maddie', ' Maddy', ' Madel', ' Madelaine', ' Madeleine', ' Madelena', ' Madelene', ' Madelin', ' Madelina', ' Madeline', ' Madella', ' Madelle', ' Madelon', ' Madelyn', ' Madge', ' Madlen', ' Madlin', ' Madona', ' Madonna', ' Mady', ' Mae', ' Maegan', ' Mag', ' Magda', ' Magdaia', ' Magdalen', ' Magdalena', ' Magdalene', ' Maggee', ' Maggi', ' Maggie', ' Maggy', ' Magna', ' Mahala', ' Mahalia', ' Maia', ' Maible', ' Maiga', ' Mair', ' Maire', ' Mairead', ' Maisey', ' Maisie', ' Mala', ' Malanie', ' Malcah', ' Malena', ' Malia', ' Malina', ' Malinda', ' Malinde', ' Malissa', ' Malissia', ' Malka', ' Malkah', ' Mallissa', ' Mallorie', ' Mallory', ' Malorie', ' Malory', ' Malva', ' Malvina', ' Malynda', ' Mame', ' Mamie', ' Manda', ' Mandi', ' Mandie', ' Mandy', ' Manon', ' Manya', ' Mara', ' Marabel', ' Marcela', ' Marcelia', ' Marcella', ' Marcelle', ' Marcellina', ' Marcelline', ' Marchelle', ' Marci', ' Marcia', ' Marcie', ' Marcile', ' Marcille', ' Marcy', ' Mareah', ' Maren', ' Marena', ' Maressa', ' Marga', ' Margalit', ' Margalo', ' Margaret', ' Margareta', ' Margarete', ' Margaretha', ' Margarethe', ' Margaretta', ' Margarette', ' Margarita', ' Margaux', ' Marge', ' Margeaux', ' Margery', ' Marget', ' Margette', ' Margi', ' Margie', ' Margit', ' Marglerite', ' Margo', ' Margot', ' Margret', ' Marguerite', ' Margurite', ' Margy', ' Mari', ' Maria', ' Mariam', ' Marian', ' Mariana', ' Mariann', ' Marianna', ' Marianne', ' Maribel', ' Maribelle', ' Maribeth', ' Marice', ' Maridel', ' Marie', ' Marie-Ann', ' Marie-Jeanne', ' Marieann', ' Mariejeanne', ' Mariel', ' Mariele', ' Marielle', ' Mariellen', ' Marietta', ' Mariette', ' Marigold', ' Marijo', ' Marika', ' Marilee', ' Marilin', ' Marillin', ' Marilyn', ' Marin', ' Marina', ' Marinna', ' Marion', ' Mariquilla', ' Maris', ' Marisa', ' Mariska', ' Marissa', ' Marit', ' Marita', ' Maritsa', ' Mariya', ' Marj', ' Marja', ' Marje', ' Marji', ' Marjie', ' Marjorie', ' Marjory', ' Marjy', ' Marketa', ' Marla', ' Marlane', ' Marleah', ' Marlee', ' Marleen', ' Marlena', ' Marlene', ' Marley', ' Marlie', ' Marline', ' Marlo', ' Marlyn', ' Marna', ' Marne', ' Marney', ' Marni', ' Marnia', ' Marnie', ' Marquita', ' Marrilee', ' Marris', ' Marrissa', ' Marry', ' Marsha', ' Marsiella', ' Marta', ' Martelle', ' Martguerita', ' Martha', ' Marthe', ' Marthena', ' Marti', ' Martica', ' Martie', ' Martina', ' Martita', ' Marty', ' Martynne', ' Mary', ' Marya', ' Maryangelyn', ' Maryann', ' Maryanna', ' Maryanne', ' Marybelle', ' Marybeth', ' Maryellen', ' Maryjane', ' Maryjo', ' Maryl', ' Marylee', ' Marylin', ' Marylinda', ' Marylou', ' Marylynne', ' Maryrose', ' Marys', ' Marysa', ' Masha', ' Matelda', ' Mathilda', ' Mathilde', ' Matilda', ' Matilde', ' Matti', ' Mattie', ' Matty', ' Maud', ' Maude', ' Maudie', ' Maura', ' Maure', ' Maureen', ' Maureene', ' Maurene', ' Maurine', ' Maurise', ' Maurita', ' Mavis', ' Mavra', ' Max', ' Maxi', ' Maxie', ' Maxine', ' Maxy', ' May', ' Maya', ' Maybelle', ' Mayda', ' Maye', ' Mead', ' Meade', ' Meagan', ' Meaghan', ' Meara', ' Mechelle', ' Meg', ' Megan', ' Megen', ' Meggan', ' Meggi', ' Meggie', ' Meggy', ' Meghan', ' Meghann', ' Mehetabel', ' Mei', ' Meira', ' Mel', ' Mela', ' Melamie', ' Melania', ' Melanie', ' Melantha', ' Melany', ' Melba', ' Melesa', ' Melessa', ' Melicent', ' Melina', ' Melinda', ' Melinde', ' Melisa', ' Melisande', ' Melisandra', ' Melisenda', ' Melisent', ' Melissa', ' Melisse', ' Melita', ' Melitta', ' Mella', ' Melli', ' Mellicent', ' Mellie', ' Mellisa', ' Mellisent', ' Mellissa', ' Melloney', ' Melly', ' Melodee', ' Melodie', ' Melody', ' Melonie', ' Melony', ' Melosa', ' Melva', ' Mercedes', ' Merci', ' Mercie', ' Mercy', ' Meredith', ' Meredithe', ' Meridel', ' Meridith', ' Meriel', ' Merilee', ' Merilyn', ' Meris', ' Merissa', ' Merl', ' Merla', ' Merle', ' Merlina', ' Merline', ' Merna', ' Merola', ' Merralee', ' Merridie', ' Merrie', ' Merrielle', ' Merrile', ' Merrilee', ' Merrili', ' Merrill', ' Merrily', ' Merry', ' Mersey', ' Meryl', ' Meta', ' Mia', ' Micaela', ' Michaela', ' Michaelina', ' Michaeline', ' Michaella', ' Michal', ' Michel', ' Michele', ' Michelina', ' Micheline', ' Michell', ' Michelle', ' Micki', ' Mickie', ' Micky', ' Midge', ' Mignon', ' Mignonne', ' Miguela', ' Miguelita', ' Mildred', ' Mildrid', ' Milena', ' Milicent', ' Milissent', ' Milka', ' Milli', ' Millicent', ' Millie', ' Millisent', ' Milly', ' Milzie', ' Mimi', ' Min', ' Mina', ' Minda', ' Mindy', ' Minerva', ' Minetta', ' Minette', ' Minna', ' Minni', ' Minnie', ' Minny', ' Minta', ' Miquela', ' Mira', ' Mirabel', ' Mirabella', ' Mirabelle', ' Miran', ' Miranda', ' Mireielle', ' Mireille', ' Mirella', ' Mirelle', ' Miriam', ' Mirilla', ' Mirna', ' Misha', ' Missie', ' Missy', ' Misti', ' Misty', ' Mitra', ' Mitzi', ' Mmarianne', ' Modesta', ' Modestia', ' Modestine', ' Modesty', ' Moina', ' Moira', ' Moll', ' Mollee', ' Molli', ' Mollie', ' Molly', ' Mommy', ' Mona', ' Monah', ' Monica', ' Monika', ' Monique', ' Mora', ' Moreen', ' Morena', ' Morgan', ' Morgana', ' Morganica', ' Morganne', ' Morgen', ' Moria', ' Morissa', ' Morlee', ' Morna', ' Moselle', ' Moya', ' Moyna', ' Moyra', ' Mozelle', ' Muffin', ' Mufi', ' Mufinella', ' Muire', ' Mureil', ' Murial', ' Muriel', ' Murielle', ' Myna', ' Myra', ' Myrah', ' Myranda', ' Myriam', ' Myrilla', ' Myrle', ' Myrlene', ' Myrna', ' Myrta', ' Myrtia', ' Myrtice', ' Myrtie', ' Myrtle', ' Nada', ' Nadean', ' Nadeen', ' Nadia', ' Nadine', ' Nadiya', ' Nady', ' Nadya', ' Nalani', ' Nan', ' Nana', ' Nananne', ' Nance', ' Nancee', ' Nancey', ' Nanci', ' Nancie', ' Nancy', ' Nanete', ' Nanette', ' Nani', ' Nanice', ' Nanine', ' Nannette', ' Nanni', ' Nannie', ' Nanny', ' Nanon', ' Naoma', ' Naomi', ' Nara', ' Nari', ' Nariko', ' Nat', ' Nata', ' Natala', ' Natalee', ' Natalia', ' Natalie', ' Natalina', ' Nataline', ' Natalya', ' Natasha', ' Natassia', ' Nathalia', ' Nathalie', ' Natka', ' Natty', ' Neala', ' Neda', ' Nedda', ' Nedi', ' Neely', ' Neila', ' Neile', ' Neilla', ' Neille', ' Nela', ' Nelia', ' Nelie', ' Nell', ' Nelle', ' Nelli', ' Nellie', ' Nelly', ' Nena', ' Nerissa', ' Nerita', ' Nert', ' Nerta', ' Nerte', ' Nerti', ' Nertie', ' Nerty', ' Nessa', ' Nessi', ' Nessie', ' Nessy', ' Nesta', ' Netta', ' Netti', ' Nettie', ' Nettle', ' Netty', ' Nevsa', ' Neysa', ' Nichol', ' Nichole', ' Nicholle', ' Nicki', ' Nickie', ' Nicky', ' Nicol', ' Nicola', ' Nicole', ' Nicolea', ' Nicolette', ' Nicoli', ' Nicolina', ' Nicoline', ' Nicolle', ' Nidia', ' Nike', ' Niki', ' Nikki', ' Nikkie', ' Nikoletta', ' Nikolia', ' Nil', ' Nina', ' Ninetta', ' Ninette', ' Ninnetta', ' Ninnette', ' Ninon', ' Nisa', ' Nissa', ' Nisse', ' Nissie', ' Nissy', ' Nita', ' Nitin', ' Nixie', ' Noami', ' Noel', ' Noelani', ' Noell', ' Noella', ' Noelle', ' Noellyn', ' Noelyn', ' Noemi', ' Nola', ' Nolana', ' Nolie', ' Nollie', ' Nomi', ' Nona', ' Nonah', ' Noni', ' Nonie', ' Nonna', ' Nonnah', ' Nora', ' Norah', ' Norean', ' Noreen', ' Norene', ' Norina', ' Norine', ' Norma', ' Norri', ' Norrie', ' Norry', ' Nova', ' Novelia', ' Nydia', ' Nyssa', ' Octavia', ' Odele', ' Odelia', ' Odelinda', ' Odella', ' Odelle', ' Odessa', ' Odetta', ' Odette', ' Odilia', ' Odille', ' Ofelia', ' Ofella', ' Ofilia', ' Ola', ' Olenka', ' Olga', ' Olia', ' Olimpia', ' Olive', ' Olivette', ' Olivia', ' Olivie', ' Oliy', ' Ollie', ' Olly', ' Olva', ' Olwen', ' Olympe', ' Olympia', ' Olympie', ' Ondrea', ' Oneida', ' Onida', ' Onlea', ' Oona', ' Opal', ' Opalina', ' Opaline', ' Ophelia', ' Ophelie', ' Oprah', ' Ora', ' Oralee', ' Oralia', ' Oralie', ' Oralla', ' Oralle', ' Orel', ' Orelee', ' Orelia', ' Orelie', ' Orella', ' Orelle', ' Oreste', ' Oriana', ' Orly', ' Orsa', ' Orsola', ' Ortensia', ' Otha', ' Othelia', ' Othella', ' Othilia', ' Othilie', ' Ottilie', ' Pacifica', ' Page', ' Paige', ' Paloma', ' Pam', ' Pamela', ' Pamelina', ' Pamella', ' Pammi', ' Pammie', ' Pammy', ' Pandora', ' Pansie', ' Pansy', ' Paola', ' Paolina', ' Parwane', ' Pat', ' Patience', ' Patrica', ' Patrice', ' Patricia', ' Patrizia', ' Patsy', ' Patti', ' Pattie', ' Patty', ' Paula', ' Paula-Grace', ' Paule', ' Pauletta', ' Paulette', ' Pauli', ' Paulie', ' Paulina', ' Pauline', ' Paulita', ' Pauly', ' Pavia', ' Pavla', ' Pearl', ' Pearla', ' Pearle', ' Pearline', ' Peg', ' Pegeen', ' Peggi', ' Peggie', ' Peggy', ' Pen', ' Penelopa', ' Penelope', ' Penni', ' Pennie', ' Penny', ' Pepi', ' Pepita', ' Peri', ' Peria', ' Perl', ' Perla', ' Perle', ' Perri', ' Perrine', ' Perry', ' Persis', ' Pet', ' Peta', ' Petra', ' Petrina', ' Petronella', ' Petronia', ' Petronilla', ' Petronille', ' Petunia', ' Phaedra', ' Phaidra', ' Phebe', ' Phedra', ' Phelia', ' Phil', ' Philipa', ' Philippa', ' Philippe', ' Philippine', ' Philis', ' Phillida', ' Phillie', ' Phillis', ' Philly', ' Philomena', ' Phoebe', ' Phylis', ' Phyllida', ' Phyllis', ' Phyllys', ' Phylys', ' Pia', ' Pier', ' Pierette', ' Pierrette', ' Pietra', ' Piper', ' Pippa', ' Pippy', ' Polly', ' Pollyanna', ' Pooh', ' Poppy', ' Portia', ' Pris', ' Prisca', ' Priscella', ' Priscilla', ' Prissie', ' Pru', ' Prudence', ' Prudi', ' Prudy', ' Prue', ' Prunella', ' Queada', ' Queenie', ' Quentin', ' Querida', ' Quinn', ' Quinta', ' Quintana', ' Quintilla', ' Quintina', ' Rachael', ' Rachel', ' Rachele', ' Rachelle', ' Rae', ' Raf', ' Rafa', ' Rafaela', ' Rafaelia', ' Rafaelita', ' Ragnhild', ' Rahal', ' Rahel', ' Raina', ' Raine', ' Rakel', ' Ralina', ' Ramona', ' Ramonda', ' Rana', ' Randa', ' Randee', ' Randene', ' Randi', ' Randie', ' Randy', ' Ranee', ' Rani', ' Rania', ' Ranice', ' Ranique', ' Ranna', ' Raphaela', ' Raquel', ' Raquela', ' Rasia', ' Rasla', ' Raven', ' Ray', ' Raychel', ' Raye', ' Rayna', ' Raynell', ' Rayshell', ' Rea', ' Reba', ' Rebbecca', ' Rebe', ' Rebeca', ' Rebecca', ' Rebecka', ' Rebeka', ' Rebekah', ' Rebekkah', ' Ree', ' Reeba', ' Reena', ' Reeta', ' Reeva', ' Regan', ' Reggi', ' Reggie', ' Regina', ' Regine', ' Reiko', ' Reina', ' Reine', ' Remy', ' Rena', ' Renae', ' Renata', ' Renate', ' Rene', ' Renee', ' Renel', ' Renell', ' Renelle', ' Renie', ' Rennie', ' Reta', ' Retha', ' Revkah', ' Rey', ' Reyna', ' Rhea', ' Rheba', ' Rheta', ' Rhetta', ' Rhiamon', ' Rhianna', ' Rhianon', ' Rhoda', ' Rhodia', ' Rhodie', ' Rhody', ' Rhona', ' Rhonda', ' Riane', ' Riannon', ' Rianon', ' Rica', ' Ricca', ' Rici', ' Ricki', ' Rickie', ' Ricky', ' Riki', ' Rikki', ' Rina', ' Risa', ' Rissa', ' Rita', ' Riva', ' Rivalee', ' Rivi', ' Rivkah', ' Rivy', ' Roana', ' Roanna', ' Roanne', ' Robbi', ' Robbie', ' Robbin', ' Robby', ' Robbyn', ' Robena', ' Robenia', ' Roberta', ' Robin', ' Robina', ' Robinet', ' Robinett', ' Robinetta', ' Robinette', ' Robinia', ' Roby', ' Robyn', ' Roch', ' Rochell', ' Rochella', ' Rochelle', ' Rochette', ' Roda', ' Rodi', ' Rodie', ' Rodina', ' Romola', ' Romona', ' Romonda', ' Romy', ' Rona', ' Ronalda', ' Ronda', ' Ronica', ' Ronna', ' Ronni', ' Ronnica', ' Ronnie', ' Ronny', ' Roobbie', ' Rora', ' Rori', ' Rorie', ' Rory', ' Ros', ' Rosa', ' Rosabel', ' Rosabella', ' Rosabelle', ' Rosaleen', ' Rosalia', ' Rosalie', ' Rosalind', ' Rosalinda', ' Rosalinde', ' Rosaline', ' Rosalyn', ' Rosalynd', ' Rosamond', ' Rosamund', ' Rosana', ' Rosanna', ' Rosanne', ' Rosario', ' Rose', ' Roseann', ' Roseanna', ' Roseanne', ' Roselia', ' Roselin', ' Roseline', ' Rosella', ' Roselle', ' Roselyn', ' Rosemaria', ' Rosemarie', ' Rosemary', ' Rosemonde', ' Rosene', ' Rosetta', ' Rosette', ' Roshelle', ' Rosie', ' Rosina', ' Rosita', ' Roslyn', ' Rosmunda', ' Rosy', ' Row', ' Rowe', ' Rowena', ' Roxana', ' Roxane', ' Roxanna', ' Roxanne', ' Roxi', ' Roxie', ' Roxine', ' Roxy', ' Roz', ' Rozalie', ' Rozalin', ' Rozamond', ' Rozanna', ' Rozanne', ' Roze', ' Rozele', ' Rozella', ' Rozelle', ' Rozina', ' Rubetta', ' Rubi', ' Rubia', ' Rubie', ' Rubina', ' Ruby', ' Ruella', ' Ruperta', ' Ruth', ' Ruthann', ' Ruthanne', ' Ruthe', ' Ruthi', ' Ruthie', ' Ruthy', ' Ryann', ' Rycca', ' Saba', ' Sabina', ' Sabine', ' Sabra', ' Sabrina', ' Sacha', ' Sada', ' Sadella', ' Sadie', ' Sal', ' Sallee', ' Salli', ' Sallie', ' Sally', ' Sallyann', ' Sallyanne', ' Salome', ' Sam', ' Samantha', ' Samara', ' Samaria', ' Sammy', ' Samuela', ' Samuella', ' Sande', ' Sandi', ' Sandie', ' Sandra', ' Sandy', ' Sandye', ' Sapphira', ' Sapphire', ' Sara', ' Sara-Ann', ' Saraann', ' Sarah', ' Sarajane', ' Saree', ' Sarena', ' Sarene', ' Sarette', ' Sari', ' Sarina', ' Sarine', ' Sarita', ' Sascha', ' Sasha', ' Sashenka', ' Saudra', ' Saundra', ' Savina', ' Sayre', ' Scarlet', ' Scarlett', ' Scotty', ' Sean', ' Seana', ' Secunda', ' Seka', ' Sela', ' Selena', ' Selene', ' Selestina', ' Selia', ' Selie', ' Selina', ' Selinda', ' Seline', ' Sella', ' Selle', ' Selma', ' Sena', ' Sephira', ' Serena', ' Serene', ' Shaina', ' Shaine', ' Shalna', ' Shalne', ' Shamit', ' Shana', ' Shanda', ' Shandee', ' Shandie', ' Shandra', ' Shandy', ' Shane', ' Shani', ' Shanie', ' Shanna', ' Shannah', ' Shannen', ' Shannon', ' Shanon', ' Shanta', ' Shantee', ' Shara', ' Sharai', ' Shari', ' Sharia', ' Sharie', ' Sharity', ' Sharl', ' Sharla', ' Sharleen', ' Sharlene', ' Sharline', ' Sharna', ' Sharon', ' Sharona', ' Sharra', ' Sharron', ' Sharyl', ' Shaun', ' Shauna', ' Shawn', ' Shawna', ' Shawnee', ' Shay', ' Shayla', ' Shaylah', ' Shaylyn', ' Shaylynn', ' Shayna', ' Shayne', ' Shea', ' Sheba', ' Sheela', ' Sheelagh', ' Sheelah', ' Sheena', ' Sheeree', ' Sheila', ' Sheila-Kathryn', ' Sheilah', ' Sheilakathryn', ' Shel', ' Shela', ' Shelagh', ' Shelba', ' Shelbi', ' Shelby', ' Shelia', ' Shell', ' Shelley', ' Shelli', ' Shellie', ' Shelly', ' Shena', ' Sher', ' Sheree', ' Sheri', ' Sherie', ' Sheril', ' Sherill', ' Sherilyn', ' Sherline', ' Sherri', ' Sherrie', ' Sherry', ' Sherye', ' Sheryl', ' Shilpa', ' Shina', ' Shir', ' Shira', ' Shirah', ' Shirl', ' Shirlee', ' Shirleen', ' Shirlene', ' Shirley', ' Shirline', ' Shoshana', ' Shoshanna', ' Shoshie', ' Siana', ' Sianna', ' Sib', ' Sibbie', ' Sibby', ' Sibeal', ' Sibel', ' Sibella', ' Sibelle', ' Sibilla', ' Sibley', ' Sibyl', ' Sibylla', ' Sibylle', ' Sidoney', ' Sidonia', ' Sidonnie', ' Sigrid', ' Sile', ' Sileas', ' Silva', ' Silvana', ' Silvia', ' Silvie', ' Simona', ' Simone', ' Simonette', ' Simonne', ' Sindee', ' Sinead', ' Siobhan', ' Sioux', ' Siouxie', ' Sisely', ' Sisile', ' Sissie', ' Sissy', ' Sofia', ' Sofie', ' Solange', ' Sondra', ' Sonia', ' Sonja', ' Sonni', ' Sonnie', ' Sonnnie', ' Sonny', ' Sonya', ' Sophey', ' Sophi', ' Sophia', ' Sophie', ' Sophronia', ' Sorcha', ' Sosanna', ' Stace', ' Stacee', ' Stacey', ' Staci', ' Stacia', ' Stacie', ' Stacy', ' Stafani', ' Star', ' Starla', ' Starlene', ' Starlin', ' Starr', ' Stefa', ' Stefania', ' Stefanie', ' Steffane', ' Steffi', ' Steffie', ' Stella', ' Stepha', ' Stephana', ' Stephani', ' Stephanie', ' Stephannie', ' Stephenie', ' Stephi', ' Stephie', ' Stephine', ' Stesha', ' Stevana', ' Stevena', ' Stoddard', ' Storey', ' Storm', ' Stormi', ' Stormie', ' Stormy', ' Sue', ' Sue-elle', ' Suellen', ' Sukey', ' Suki', ' Sula', ' Sunny', ' Sunshine', ' Susan', ' Susana', ' Susanetta', ' Susann', ' Susanna', ' Susannah', ' Susanne', ' Susette', ' Susi', ' Susie', ' Sussi', ' Susy', ' Suzan', ' Suzann', ' Suzanna', ' Suzanne', ' Suzetta', ' Suzette', ' Suzi', ' Suzie', ' Suzy', ' Suzzy', ' Sybil', ' Sybila', ' Sybilla', ' Sybille', ' Sybyl', ' Sydel', ' Sydelle', ' Sydney', ' Sylvia', ' Sylvie', ' Tabatha', ' Tabbatha', ' Tabbi', ' Tabbie', ' Tabbitha', ' Tabby', ' Tabina', ' Tabitha', ' Taffy', ' Talia', ' Tallia', ' Tallie', ' Tally', ' Talya', ' Talyah', ' Tamar', ' Tamara', ' Tamarah', ' Tamarra', ' Tamera', ' Tami', ' Tamiko', ' Tamma', ' Tammara', ' Tammi', ' Tammie', ' Tammy', ' Tamra', ' Tana', ' Tandi', ' Tandie', ' Tandy', ' Tani', ' Tania', ' Tansy', ' Tanya', ' Tara', ' Tarah', ' Tarra', ' Tarrah', ' Taryn', ' Tasha', ' Tasia', ' Tate', ' Tatiana', ' Tatiania', ' Tatum', ' Tawnya', ' Tawsha', ' Teane', ' Ted', ' Tedda', ' Teddi', ' Teddie', ' Teddy', ' Tedi', ' Tedra', ' Teena', ' Tella', ' Teodora', ' Tera', ' Teresa', ' TeresaAnne', ' Terese', ' Teresina', ' Teresita', ' Teressa', ' Teri', ' Teriann', ' Terina', ' Terra', ' Terri', ' Terri-Jo', ' Terrianne', ' Terrie', ' Terry', ' Terrye', ' Tersina', ' Teryl', ' Terza', ' Tess', ' Tessa', ' Tessi', ' Tessie', ' Tessy', ' Thalia', ' Thea', ' Theada', ' Theadora', ' Theda', ' Thekla', ' Thelma', ' Theo', ' Theodora', ' Theodosia', ' Theresa', ' Theresa-Marie', ' Therese', ' Theresina', ' Theresita', ' Theressa', ' Therine', ' Thia', ' Thomasa', ' Thomasin', ' Thomasina', ' Thomasine', ' Tia', ' Tiana', ' Tiena', ' Tierney', ' Tiertza', ' Tiff', ' Tiffani', ' Tiffanie', ' Tiffany', ' Tiffi', ' Tiffie', ' Tiffy', ' Tilda', ' Tildi', ' Tildie', ' Tildy', ' Tillie', ' Tilly', ' Tim', ' Timi', ' Timmi', ' Timmie', ' Timmy', ' Timothea', ' Tina', ' Tine', ' Tiphani', ' Tiphanie', ' Tiphany', ' Tish', ' Tisha', ' Tobe', ' Tobey', ' Tobi', ' Tobie', ' Toby', ' Tobye', ' Toinette', ' Toma', ' Tomasina', ' Tomasine', ' Tomi', ' Tomiko', ' Tommi', ' Tommie', ' Tommy', ' Toni', ' Tonia', ' Tonie', ' Tony', ' Tonya', ' Tootsie', ' Torey', ' Tori', ' Torie', ' Torrie', ' Tory', ' Tova', ' Tove', ' Trace', ' Tracee', ' Tracey', ' Traci', ' Tracie', ' Tracy', ' Trenna', ' Tresa', ' Trescha', ' Tressa', ' Tricia', ' Trina', ' Trish', ' Trisha', ' Trista', ' Trix', ' Trixi', ' Trixie', ' Trixy', ' Truda', ' Trude', ' Trudey', ' Trudi', ' Trudie', ' Trudy', ' Trula', ' Tuesday', ' Twila', ' Twyla', ' Tybi', ' Tybie', ' Tyne', ' Ula', ' Ulla', ' Ulrica', ' Ulrika', ' Ulrike', ' Umeko', ' Una', ' Ursa', ' Ursala', ' Ursola', ' Ursula', ' Ursulina', ' Ursuline', ' Uta', ' Val', ' Valaree', ' Valaria', ' Vale', ' Valeda', ' Valencia', ' Valene', ' Valenka', ' Valentia', ' Valentina', ' Valentine', ' Valera', ' Valeria', ' Valerie', ' Valery', ' Valerye', ' Valida', ' Valina', ' Valli', ' Vallie', ' Vally', ' Valma', ' Valry', ' Van', ' Vanda', ' Vanessa', ' Vania', ' Vanna', ' Vanni', ' Vannie', ' Vanny', ' Vanya', ' Veda', ' Velma', ' Velvet', ' Vena', ' Venita', ' Ventura', ' Venus', ' Vera', ' Veradis', ' Vere', ' Verena', ' Verene', ' Veriee', ' Verile', ' Verina', ' Verine', ' Verla', ' Verna', ' Vernice', ' Veronica', ' Veronika', ' Veronike', ' Veronique', ' Vi', ' Vicki', ' Vickie', ' Vicky', ' Victoria', ' Vida', ' Viki', ' Vikki', ' Vikkie', ' Vikky', ' Vilhelmina', ' Vilma', ' Vin', ' Vina', ' Vinita', ' Vinni', ' Vinnie', ' Vinny', ' Viola', ' Violante', ' Viole', ' Violet', ' Violetta', ' Violette', ' Virgie', ' Virgina', ' Virginia', ' Virginie', ' Vita', ' Vitia', ' Vitoria', ' Vittoria', ' Viv', ' Viva', ' Vivi', ' Vivia', ' Vivian', ' Viviana', ' Vivianna', ' Vivianne', ' Vivie', ' Vivien', ' Viviene', ' Vivienne', ' Viviyan', ' Vivyan', ' Vivyanne', ' Vonni', ' Vonnie', ' Vonny', ' Wallie', ' Wallis', ' Wally', ' Waly', ' Wanda', ' Wandie', ' Wandis', ' Waneta', ' Wenda', ' Wendeline', ' Wendi', ' Wendie', ' Wendy', ' Wenona', ' Wenonah', ' Whitney', ' Wileen', ' Wilhelmina', ' Wilhelmine', ' Wilie', ' Willa', ' Willabella', ' Willamina', ' Willetta', ' Willette', ' Willi', ' Willie', ' Willow', ' Willy', ' Willyt', ' Wilma', ' Wilmette', ' Wilona', ' Wilone', ' Wilow', ' Windy', ' Wini', ' Winifred', ' Winna', ' Winnah', ' Winne', ' Winni', ' Winnie', ' Winnifred', ' Winny', ' Winona', ' Winonah', ' Wren', ' Wrennie', ' Wylma', ' Wynn', ' Wynne', ' Wynnie', ' Wynny', ' Xaviera', ' Xena', ' Xenia', ' Xylia', ' Xylina', ' Yalonda', ' Yehudit', ' Yelena', ' Yetta', ' Yettie', ' Yetty', ' Yevette', ' Yoko', ' Yolanda', ' Yolande', ' Yolane', ' Yolanthe', ' Yonina', ' Yoshi', ' Yoshiko', ' Yovonnda', ' Yvette', ' Yvonne', ' Zabrina', ' Zahara', ' Zandra', ' Zaneta', ' Zara', ' Zarah', ' Zaria', ' Zarla', ' Zea', ' Zelda', ' Zelma', ' Zena', ' Zenia', ' Zia', ' Zilvia', ' Zita', ' Zitella', ' Zoe', ' Zola', ' Zonda', ' Zondra', ' Zonnya', ' Zora', ' Zorah', ' Zorana', ' Zorina', ' Zorine', ' Zsa Zsa', ' Zsazsa', ' Zulema', ' Zuzana', ' Mikako', ' Kaari', ' Gita', ' Geeta', ' Aamir', ' Aaron', ' Abbey', ' Abbie', ' Abbot', ' Abbott', ' Abby', ' Abdel', ' Abdul', ' Abdulkarim', ' Abdullah', ' Abe', ' Abel', ' Abelard', ' Abner', ' Abraham', ' Abram', ' Ace', ' Adair', ' Adam', ' Adams', ' Addie', ' Adger', ' Aditya', ' Adlai', ' Adnan', ' Adolf', ' Adolfo', ' Adolph', ' Adolphe', ' Adolpho', ' Adolphus', ' Adrian', ' Adrick', ' Adrien', ' Agamemnon', ' Aguinaldo', ' Aguste', ' Agustin', ' Aharon', ' Ahmad', ' Ahmed', ' Ahmet', ' Ajai', ' Ajay', ' Al', ' Alaa', ' Alain', ' Alan', ' Alasdair', ' Alastair', ' Albatros', ' Albert', ' Alberto', ' Albrecht', ' Alden', ' Aldis', ' Aldo', ' Aldric', ' Aldrich', ' Aldus', ' Aldwin', ' Alec', ' Aleck', ' Alejandro', ' Aleks', ' Aleksandrs', ' Alessandro', ' Alex', ' Alexander', ' Alexei', ' Alexis', ' Alf', ' Alfie', ' Alfonse', ' Alfonso', ' Alfonzo', ' Alford', ' Alfred', ' Alfredo', ' Algernon', ' Ali', ' Alic', ' Alister', ' Alix', ' Allah', ' Allan', ' Allen', ' Alley', ' Allie', ' Allin', ' Allyn', ' Alonso', ' Alonzo', ' Aloysius', ' Alphonse', ' Alphonso', ' Alston', ' Alton', ' Alvin', ' Alwin', ' Amadeus', ' Ambros', ' Ambrose', ' Ambrosi', ' Ambrosio', ' Ambrosius', ' Amery', ' Amory', ' Amos', ' Anatol', ' Anatole', ' Anatollo', ' Anatoly', ' Anders', ' Andie', ' Andonis', ' Andre', ' Andrea', ' Andreas', ' Andrej', ' Andres', ' Andrew', ' Andrey', ' Andri', ' Andros', ' Andrus', ' Andrzej', ' Andy', ' Angel', ' Angelico', ' Angelo', ' Angie', ' Angus', ' Ansel', ' Ansell', ' Anselm', ' Anson', ' Anthony', ' Antin', ' Antoine', ' Anton', ' Antone', ' Antoni', ' Antonin', ' Antonino', ' Antonio', ' Antonius', ' Antony', ' Anurag', ' Apollo', ' Apostolos', ' Aram', ' Archibald', ' Archibold', ' Archie', ' Archon', ' Archy', ' Arel', ' Ari', ' Arie', ' Ariel', ' Aristotle', ' Arlo', ' Armand', ' Armando', ' Armond', ' Armstrong', ' Arne', ' Arnie', ' Arnold', ' Arnoldo', ' Aron', ' Arron', ' Art', ' Arther', ' Arthur', ' Artie', ' Artur', ' Arturo', ' Arvie', ' Arvin', ' Arvind', ' Arvy', ' Ash', ' Ashby', ' Ashish', ' Ashley', ' Ashton', ' Aub', ' Aube', ' Aubert', ' Aubrey', ' Augie', ' August', ' Augustin', ' Augustine', ' Augusto', ' Augustus', ' Austen', ' Austin', ' Ave', ' Averell', ' Averil', ' Averill', ' Avery', ' Avi', ' Avraham', ' Avram', ' Avrom', ' Axel', ' Aylmer', ' Aziz', ' Bailey', ' Bailie', ' Baillie', ' Baily', ' Baird', ' Baldwin', ' Bancroft', ' Barbabas', ' Barclay', ' Bard', ' Barde', ' Barn', ' Barnabas', ' Barnabe', ' Barnaby', ' Barnard', ' Barnebas', ' Barnett', ' Barney', ' Barnie', ' Barny', ' Baron', ' Barr', ' Barret', ' Barrett', ' Barri', ' Barrie', ' Barris', ' Barron', ' Barry', ' Bart', ' Bartel', ' Barth', ' Barthel', ' Bartholemy', ' Bartholomeo', ' Bartholomeus', ' Bartholomew', ' Bartie', ' Bartlet', ' Bartlett', ' Bartolemo', ' Bartolomei', ' Bartolomeo', ' Barton', ' Barty', ' Bary', ' Basil', ' Batholomew', ' Baxter', ' Bay', ' Bayard', ' Beale', ' Bealle', ' Bear', ' Bearnard', ' Beau', ' Beaufort', ' Beauregard', ' Beck', ' Bela', ' Ben', ' Benedict', ' Bengt', ' Benito', ' Benjamen', ' Benjamin', ' Benji', ' Benjie', ' Benjy', ' Benn', ' Bennet', ' Bennett', ' Bennie', ' Benny', ' Benson', ' Bentley', ' Benton', ' Beowulf', ' Berchtold', ' Berk', ' Berke', ' Berkeley', ' Berkie', ' Berkley', ' Bernard', ' Bernardo', ' Bernd', ' Bernhard', ' Bernie', ' Bert', ' Bertie', ' Bertram', ' Bertrand', ' Bharat', ' Biff', ' Bill', ' Billie', ' Billy', ' Bing', ' Binky', ' Bishop', ' Bjorn', ' Bjorne', ' Blaine', ' Blair', ' Blake', ' Blare', ' Blayne', ' Bo', ' Bob', ' Bobbie', ' Bobby', ' Bogart', ' Bogdan', ' Boniface', ' Boris', ' Boyce', ' Boyd', ' Brad', ' Braden', ' Bradford', ' Bradley', ' Bradly', ' Brady', ' Brandon', ' Brandy', ' Brant', ' Brendan', ' Brent', ' Bret', ' Brett', ' Brewer', ' Brewster', ' Brian', ' Brice', ' Briggs', ' Brinkley', ' Britt', ' Brock', ' Broddie', ' Broddy', ' Broderic', ' Broderick', ' Brodie', ' Brody', ' Bronson', ' Brook', ' Brooke', ' Brooks', ' Bruce', ' Bruno', ' Bryan', ' Bryant', ' Bryce', ' Bryn', ' Bryon', ' Bubba', ' Buck', ' Bucky', ' Bud', ' Buddy', ' Burgess', ' Burke', ' Burl', ' Burnaby', ' Burt', ' Burton', ' Buster', ' Butch', ' Butler', ' Byram', ' Byron', ' Caesar', ' Cain', ' Cal', ' Caldwell', ' Caleb', ' Calhoun', ' Calvin', ' Cam', ' Cameron', ' Cammy', ' Carey', ' Carl', ' Carleigh', ' Carlie', ' Carlin', ' Carlo', ' Carlos', ' Carlton', ' Carlyle', ' Carmine', ' Carroll', ' Carson', ' Carsten', ' Carter', ' Cary', ' Caryl', ' Case', ' Casey', ' Caspar', ' Casper', ' Cass', ' Cat', ' Cecil', ' Cesar', ' Chad', ' Chadd', ' Chaddie', ' Chaddy', ' Chadwick', ' Chaim', ' Chalmers', ' Chan', ' Chance', ' Chancey', ' Chanderjit', ' Chandler', ' Chane', ' Chariot', ' Charles', ' Charleton', ' Charley', ' Charlie', ' Charlton', ' Chas', ' Chase', ' Chaunce', ' Chauncey', ' Che', ' Chelton', ' Chen', ' Chester', ' Cheston', ' Chet', ' Chev', ' Chevalier', ' Chevy', ' Chip', ' Chris', ' Chrissy', ' Christ', ' Christian', ' Christiano', ' Christie', ' Christof', ' Christofer', ' Christoph', ' Christophe', ' Christopher', ' Christorpher', ' Christos', ' Christy', ' Chrisy', ' Chuck', ' Churchill', ' Clair', ' Claire', ' Clancy', ' Clarance', ' Clare', ' Clarence', ' Clark', ' Clarke', ' Claude', ' Claudio', ' Claudius', ' Claus', ' Clay', ' Clayborn', ' Clayborne', ' Claybourne', ' Clayton', ' Cleland', ' Clem', ' Clemens', ' Clement', ' Clemente', ' Clemmie', ' Cletus', ' Cleveland', ' Cliff', ' Clifford', ' Clifton', ' Clint', ' Clinten', ' Clinton', ' Clive', ' Clyde', ' Cob', ' Cobb', ' Cobbie', ' Cobby', ' Cody', ' Colbert', ' Cole', ' Coleman', ' Colin', ' Collin', ' Collins', ' Conan', ' Connie', ' Connolly', ' Connor', ' Conrad', ' Conroy', ' Constantin', ' Constantine', ' Constantinos', ' Conway', ' Cooper', ' Corbin', ' Corby', ' Corey', ' Corky', ' Cornelius', ' Cornellis', ' Corrie', ' Cortese', ' Corwin', ' Cory', ' Cosmo', ' Costa', ' Courtney', ' Craig', ' Crawford', ' Creighton', ' Cris', ' Cristopher', ' Curt', ' Curtice', ' Curtis', ' Cy', ' Cyril', ' Cyrill', ' Cyrille', ' Cyrillus', ' Cyrus', ' Dabney', ' Daffy', ' Dale', ' Dallas', ' Dalton', ' Damian', ' Damien', ' Damon', ' Dan', ' Dana', ' Dane', ' Dani', ' Danie', ' Daniel', ' Dannie', ' Danny', ' Dante', ' Darby', ' Darcy', ' Daren', ' Darian', ' Darien', ' Darin', ' Dario', ' Darius', ' Darrel', ' Darrell', ' Darren', ' Darrick', ' Darrin', ' Darryl', ' Darth', ' Darwin', ' Daryl', ' Daryle', ' Dave', ' Davey', ' David', ' Davidde', ' Davide', ' Davidson', ' Davie', ' Davin', ' Davis', ' Davon', ' Davoud', ' Davy', ' Dawson', ' Dean', ' Deane', ' Del', ' Delbert', ' Dell', ' Delmar', ' Demetre', ' Demetri', ' Demetris', ' Demetrius', ' Demosthenis', ' Denis', ' Dennie', ' Dennis', ' Denny', ' Derby', ' Derek', ' Derick', ' Derk', ' Derrek', ' Derrick', ' Derrin', ' Derrol', ' Derron', ' Deryl', ' Desmond', ' Desmund', ' Devin', ' Devon', ' Dewey', ' Dewitt', ' Dexter', ' Dick', ' Dickey', ' Dickie', ' Diego', ' Dieter', ' Dietrich', ' Dillon', ' Dimitri', ' Dimitrios', ' Dimitris', ' Dimitrou', ' Dimitry', ' Dino', ' Dion', ' Dionis', ' Dionysus', ' Dirk', ' Dmitri', ' Dom', ' Domenic', ' Domenico', ' Dominic', ' Dominick', ' Dominique', ' Don', ' Donal', ' Donald', ' Donn', ' Donnie', ' Donny', ' Donovan', ' Dorian', ' Dory', ' Doug', ' Douggie', ' Dougie', ' Douglas', ' Douglass', ' Douglis', ' Dov', ' Doyle', ' Drake', ' Drew', ' Dru', ' Dryke', ' Duane', ' Dudley', ' Duffie', ' Duffy', ' Dugan', ' Duke', ' Dunc', ' Duncan', ' Dunstan', ' Durand', ' Durant', ' Durante', ' Durward', ' Dustin', ' Dwain', ' Dwaine', ' Dwane', ' Dwayne', ' Dwight', ' Dylan', ' Dyson', ' Earl', ' Earle', ' Easton', ' Eben', ' Ebeneser', ' Ebenezer', ' Eberhard', ' Ed', ' Eddie', ' Eddy', ' Edgar', ' Edgardo', ' Edie', ' Edmond', ' Edmund', ' Edouard', ' Edsel', ' Eduard', ' Eduardo', ' Edward', ' Edwin', ' Efram', ' Egbert', ' Ehud', ' Elbert', ' Elden', ' Eldon', ' Eli', ' Elias', ' Elihu', ' Elijah', ' Eliot', ' Eliott', ' Elisha', ' Elliot', ' Elliott', ' Ellis', ' Ellsworth', ' Ellwood', ' Elmer', ' Elmore', ' Elnar', ' Elric', ' Elroy', ' Elton', ' Elvin', ' Elvis', ' Elwin', ' Elwood', ' Elwyn', ' Ely', ' Emanuel', ' Emerson', ' Emery', ' Emil', ' Emile', ' Emilio', ' Emmanuel', ' Emmery', ' Emmet', ' Emmett', ' Emmit', ' Emmott', ' Emmy', ' Emory', ' Ender', ' Engelbart', ' Engelbert', ' Englebart', ' Englebert', ' Enoch', ' Enrico', ' Enrique', ' Ephraim', ' Ephram', ' Ephrayim', ' Ephrem', ' Er', ' Erasmus', ' Erastus', ' Erek', ' Erhard', ' Erhart', ' Eric', ' Erich', ' Erick', ' Erik', ' Erin', ' Erl', ' Ernest', ' Ernesto', ' Ernie', ' Ernst', ' Erny', ' Errol', ' Ervin', ' Erwin', ' Esau', ' Esme', ' Esteban', ' Ethan', ' Ethelbert', ' Ethelred', ' Etienne', ' Euclid', ' Eugen', ' Eugene', ' Eustace', ' Ev', ' Evan', ' Evelyn', ' Everard', ' Everett', ' Ewan', ' Ewart', ' Ez', ' Ezechiel', ' Ezekiel', ' Ezra', ' Fabian', ' Fabio', ' Fairfax', ' Farley', ' Fazeel', ' Federico', ' Felice', ' Felicio', ' Felipe', ' Felix', ' Ferd', ' Ferdie', ' Ferdinand', ' Ferdy', ' Fergus', ' Ferguson', ' Ferinand', ' Fernando', ' Fidel', ' Filbert', ' Filip', ' Filipe', ' Filmore', ' Finley', ' Finn', ' Fitz', ' Fitzgerald', ' Flem', ' Fleming', ' Flemming', ' Fletch', ' Fletcher', ' Flin', ' Flinn', ' Flint', ' Flipper', ' Florian', ' Floyd', ' Flynn', ' Fons', ' Fonsie', ' Fonz', ' Fonzie', ' Forbes', ' Ford', ' Forest', ' Forester', ' Forrest', ' Forrester', ' Forster', ' Foster', ' Fowler', ' Fox', ' Fran', ' Francesco', ' Francis', ' Francisco', ' Francois', ' Frank', ' Frankie', ' Franklin', ' Franklyn', ' Franky', ' Frans', ' Franz', ' Fraser', ' Frazier', ' Fred', ' Freddie', ' Freddy', ' Frederic', ' Frederich', ' Frederick', ' Frederico', ' Frederik', ' Fredric', ' Fredrick', ' Freeman', ' Freemon', ' Fremont', ' French', ' Friedric', ' Friedrich', ' Friedrick', ' Fritz', ' Fulton', ' Fyodor', ' Gabe', ' Gabriel', ' Gabriele', ' Gabriell', ' Gabriello', ' Gail', ' Gale', ' Galen', ' Gallagher', ' Gamaliel', ' Garcia', ' Garcon', ' Gardener', ' Gardiner', ' Gardner', ' Garey', ' Garfield', ' Garfinkel', ' Garold', ' Garp', ' Garret', ' Garrett', ' Garrot', ' Garrott', ' Garry', ' Garth', ' Garv', ' Garvey', ' Garvin', ' Garvy', ' Garwin', ' Garwood', ' Gary', ' Gaspar', ' Gasper', ' Gaston', ' Gav', ' Gaven', ' Gavin', ' Gavriel', ' Gay', ' Gayle', ' Gearard', ' Gene', ' Geo', ' Geof', ' Geoff', ' Geoffrey', ' Geoffry', ' Georg', ' George', ' Georges', ' Georgia', ' Georgie', ' Georgy', ' Gerald', ' Geraldo', ' Gerard', ' Gere', ' Gerhard', ' Gerhardt', ' Geri', ' Germaine', ' Gerold', ' Gerome', ' Gerrard', ' Gerri', ' Gerrit', ' Gerry', ' Gershom', ' Gershon', ' Giacomo', ' Gian', ' Giancarlo', ' Giavani', ' Gibb', ' Gideon', ' Giff', ' Giffard', ' Giffer', ' Giffie', ' Gifford', ' Giffy', ' Gil', ' Gilbert', ' Gilberto', ' Gilburt', ' Giles', ' Gill', ' Gilles', ' Ginger', ' Gino', ' Giordano', ' Giorgi', ' Giorgio', ' Giovanne', ' Giovanni', ' Giraldo', ' Giraud', ' Giuseppe', ' Glen', ' Glenn', ' Glynn', ' Godard', ' Godart', ' Goddard', ' Goddart', ' Godfree', ' Godfrey', ' Godfry', ' Godwin', ' Gomer', ' Gonzales', ' Gonzalo', ' Goober', ' Goose', ' Gordan', ' Gordie', ' Gordon', ' Grace', ' Grady', ' Graehme', ' Graeme', ' Graham', ' Graig', ' Grant', ' Granville', ' Greg', ' Gregg', ' Greggory', ' Gregor', ' Gregorio', ' Gregory', ' Gretchen', ' Griff', ' Griffin', ' Griffith', ' Griswold', ' Grove', ' Grover', ' Guido', ' Guillaume', ' Guillermo', ' Gunner', ' Gunter', ' Gunther', ' Gus', ' Gustaf', ' Gustav', ' Gustave', ' Gustavo', ' Gustavus', ' Guthrey', ' Guthrie', ' Guthry', ' Guy', ' Hadleigh', ' Hadley', ' Hadrian', ' Hagan', ' Hagen', ' Hailey', ' Hakeem', ' Hakim', ' Hal', ' Hale', ' Haleigh', ' Haley', ' Hall', ' Hallam', ' Halvard', ' Ham', ' Hamel', ' Hamid', ' Hamil', ' Hamilton', ' Hamish', ' Hamlen', ' Hamlet', ' Hamlin', ' Hammad', ' Hamnet', ' Han', ' Hanan', ' Hanford', ' Hank', ' Hannibal', ' Hans', ' Hans-Peter', ' Hansel', ' Hanson', ' Harald', ' Harcourt', ' Hari', ' Harlan', ' Harland', ' Harley', ' Harlin', ' Harman', ' Harmon', ' Harold', ' Harris', ' Harrison', ' Harrold', ' Harry', ' Hart', ' Hartley', ' Hartwell', ' Harv', ' Harvard', ' Harvey', ' Harvie', ' Harwell', ' Hasheem', ' Hashim', ' Haskel', ' Haskell', ' Hassan', ' Hastings', ' Hasty', ' Haven', ' Hayden', ' Haydon', ' Hayes', ' Hayward', ' Haywood', ' Hazel', ' Heath', ' Heathcliff', ' Hebert', ' Hector', ' Heinrich', ' Heinz', ' Helmuth', ' Henderson', ' Hendrick', ' Hendrik', ' Henri', ' Henrie', ' Henrik', ' Henrique', ' Henry', ' Herb', ' Herbert', ' Herbie', ' Herby', ' Hercule', ' Hercules', ' Herculie', ' Herman', ' Hermann', ' Hermon', ' Hermy', ' Hernando', ' Herold', ' Herrick', ' Herrmann', ' Hersch', ' Herschel', ' Hersh', ' Hershel', ' Herve', ' Hervey', ' Hew', ' Hewe', ' Hewet', ' Hewett', ' Hewie', ' Hewitt', ' Heywood', ' Hezekiah', ' Higgins', ' Hilary', ' Hilbert', ' Hill', ' Hillard', ' Hillary', ' Hillel', ' Hillery', ' Hilliard', ' Hilton', ' Hiralal', ' Hiram', ' Hiro', ' Hirsch', ' Hobart', ' Hodge', ' Hogan', ' Hollis', ' Holly', ' Homer', ' Horace', ' Horacio', ' Horatio', ' Horatius', ' Horst', ' Howard', ' Howie', ' Hoyt', ' Hubert', ' Hudson', ' Huey', ' Hugh', ' Hugo', ' Humbert', ' Humphrey', ' Hunt', ' Hunter', ' Huntington', ' Huntlee', ' Huntley', ' Hurley', ' Husain', ' Husein', ' Hussein', ' Hy', ' Hyatt', ' Hyman', ' Hymie', ' Iago', ' Iain', ' Ian', ' Ibrahim', ' Ichabod', ' Iggie', ' Iggy', ' Ignace', ' Ignacio', ' Ignacius', ' Ignatius', ' Ignaz', ' Ignazio', ' Igor', ' Ike', ' Ikey', ' Immanuel', ' Ingamar', ' Ingelbert', ' Ingemar', ' Inglebert', ' Ingmar', ' Ingram', ' Inigo', ' Ira', ' Irvin', ' Irvine', ' Irving', ' Irwin', ' Isa', ' Isaac', ' Isaak', ' Isador', ' Isadore', ' Isaiah', ' Ishmael', ' Isidore', ' Ismail', ' Israel', ' Istvan', ' Ivan', ' Ivor', ' Izaak', ' Izak', ' Izzy', ' Jabez', ' Jack', ' Jackie', ' Jackson', ' Jacob', ' Jacques', ' Jae', ' Jaime', ' Jake', ' Jakob', ' James', ' Jameson', ' Jamey', ' Jamie', ' Jan', ' Janos', ' Janus', ' Jared', ' Jarrett', ' Jarvis', ' Jason', ' Jasper', ' Javier', ' Jay', ' Jean', ' Jean-Christophe', ' Jean-Francois', ' Jean-Lou', ' Jean-Luc', ' Jean-Marc', ' Jean-Paul', ' Jean-Pierre', ' Jeb', ' Jed', ' Jedediah', ' Jef', ' Jeff', ' Jefferey', ' Jefferson', ' Jeffery', ' Jeffie', ' Jeffrey', ' Jeffry', ' Jefry', ' Jehu', ' Jennings', ' Jens', ' Jephthah', ' Jerald', ' Jeramie', ' Jere', ' Jereme', ' Jeremiah', ' Jeremias', ' Jeremie', ' Jeremy', ' Jermain', ' Jermaine', ' Jermayne', ' Jerold', ' Jerome', ' Jeromy', ' Jerri', ' Jerrie', ' Jerrold', ' Jerrome', ' Jerry', ' Jervis', ' Jerzy', ' Jess', ' Jesse', ' Jessee', ' Jessey', ' Jessie', ' Jesus', ' Jeth', ' Jethro', ' Jim', ' Jimbo', ' Jimmie', ' Jimmy', ' Jo', ' Joab', ' Joachim', ' Joao', ' Joaquin', ' Job', ' Jock', ' Jodi', ' Jodie', ' Jody', ' Joe', ' Joel', ' Joey', ' Johan', ' Johann', ' Johannes', ' John', ' John-David', ' John-Patrick', ' Johnathan', ' Johnathon', ' Johnnie', ' Johnny', ' Johny', ' Jon', ' Jonah', ' Jonas', ' Jonathan', ' Jonathon', ' Jonny', ' Jordan', ' Jordon', ' Jordy', ' Jorge', ' Jory', ' Jose', ' Josef', ' Joseph', ' Josephus', ' Josh', ' Joshua', ' Joshuah', ' Josiah', ' Jotham', ' Juan', ' Juanita', ' Jud', ' Judah', ' Judas', ' Judd', ' Jude', ' Judith', ' Judson', ' Judy', ' Juergen', ' Jule', ' Jules', ' Julian', ' Julie', ' Julio', ' Julius', ' Justin', ' Justis', ' Kaiser', ' Kaleb', ' Kalil', ' Kalle', ' Kalman', ' Kalvin', ' Kam', ' Kane', ' Kareem', ' Karel', ' Karim', ' Karl', ' Karsten', ' Kaspar', ' Keefe', ' Keenan', ' Keene', ' Keil', ' Keith', ' Kellen', ' Kelley', ' Kelly', ' Kelsey', ' Kelvin', ' Kelwin', ' Ken', ' Kendal', ' Kendall', ' Kendrick', ' Kenn', ' Kennedy', ' Kenneth', ' Kenny', ' Kent', ' Kenton', ' Kenyon', ' Kermie', ' Kermit', ' Kerry', ' Kevan', ' Kevin', ' Kim', ' Kimball', ' Kimmo', ' Kin', ' Kincaid', ' King', ' Kingsley', ' Kingsly', ' Kingston', ' Kip', ' Kirby', ' Kirk', ' Kit', ' Klaus', ' Klee', ' Knox', ' Konrad', ' Konstantin', ' Kory', ' Kostas', ' Kraig', ' Kris', ' Krishna', ' Kristian', ' Kristopher', ' Kristos', ' Kurt', ' Kurtis', ' Kyle', ' Laird', ' Lamar', ' Lambert', ' Lamont', ' Lance', ' Lancelot', ' Lane', ' Langston', ' Lanny', ' Larry', ' Lars', ' Laurance', ' Lauren', ' Laurence', ' Laurens', ' Laurent', ' Laurie', ' Lawerence', ' Lawrence', ' Lawson', ' Lawton', ' Lay', ' Layton', ' Lazar', ' Lazare', ' Lazaro', ' Lazarus', ' Lazlo', ' Lee', ' Lefty', ' Leif', ' Leigh', ' Leighton', ' Leland', ' Lem', ' Lemar', ' Lemmie', ' Lemmy', ' Lemuel', ' Len', ' Lenard', ' Lennie', ' Lenny', ' Leo', ' Leon', ' Leonard', ' Leonardo', ' Leonerd', ' Leonhard', ' Leonid', ' Leonidas', ' Leopold', ' Leroy', ' Les', ' Lesley', ' Leslie', ' Lester', ' Lev', ' Levi', ' Levin', ' Levon', ' Levy', ' Lew', ' Lewis', ' Lex', ' Liam', ' Lin', ' Lincoln', ' Lind', ' Lindsay', ' Lindsey', ' Lindy', ' Linoel', ' Linus', ' Lion', ' Lionel', ' Lionello', ' Llewellyn', ' Lloyd', ' Locke', ' Lockwood', ' Logan', ' Lon', ' Lonnie', ' Lonny', ' Loren', ' Lorenzo', ' Lorne', ' Lorrie', ' Lothar', ' Lou', ' Louie', ' Louis', ' Lovell', ' Lowell', ' Lucas', ' Luce', ' Lucian', ' Luciano', ' Lucien', ' Lucio', ' Lucius', ' Ludvig', ' Ludwig', ' Luigi', ' Luis', ' Lukas', ' Luke', ' Luther', ' Lyle', ' Lyn', ' Lyndon', ' Lynn', ' Mac', ' Mace', ' Mack', ' Mackenzie', ' Maddie', ' Maddy', ' Madison', ' Magnum', ' Magnus', ' Mahesh', ' Mahmoud', ' Mahmud', ' Maison', ' Major', ' Malcolm', ' Manfred', ' Manish', ' Manny', ' Manuel', ' Marc', ' Marcel', ' Marcello', ' Marcellus', ' Marcelo', ' Marchall', ' Marcio', ' Marco', ' Marcos', ' Marcus', ' Marietta', ' Marilu', ' Mario', ' Marion', ' Marius', ' Mark', ' Marko', ' Markos', ' Markus', ' Marlin', ' Marlo', ' Marlon', ' Marlow', ' Marlowe', ' Marmaduke', ' Marsh', ' Marshal', ' Marshall', ' Mart', ' Martainn', ' Marten', ' Martie', ' Martin', ' Martino', ' Marty', ' Martyn', ' Marv', ' Marve', ' Marven', ' Marvin', ' Marwin', ' Mason', ' Mateo', ' Mathew', ' Mathias', ' Matias', ' Matt', ' Matteo', ' Matthaeus', ' Mattheus', ' Matthew', ' Matthias', ' Matthieu', ' Matthiew', ' Matthus', ' Mattias', ' Mattie', ' Matty', ' Maurice', ' Mauricio', ' Maurie', ' Maurise', ' Maurits', ' Mauritz', ' Maury', ' Max', ' Maxfield', ' Maxie', ' Maxim', ' Maximilian', ' Maximilien', ' Maxwell', ' Mayer', ' Maynard', ' Maynord', ' Mayor', ' Mead', ' Meade', ' Meier', ' Meir', ' Mel', ' Melvin', ' Melvyn', ' Menard', ' Mendel', ' Mendie', ' Meredeth', ' Meredith', ' Merell', ' Merill', ' Merle', ' Merlin', ' Merrel', ' Merrick', ' Merril', ' Merrill', ' Merry', ' Merv', ' Mervin', ' Merwin', ' Meryl', ' Meyer', ' Mic', ' Micah', ' Michael', ' Michail', ' Michal', ' Michale', ' Micheal', ' Micheil', ' Michel', ' Michele', ' Mick', ' Mickey', ' Mickie', ' Micky', ' Miguel', ' Mika', ' Mikael', ' Mike', ' Mikel', ' Mikey', ' Mikhail', ' Miles', ' Millicent', ' Milo', ' Milt', ' Milton', ' Mischa', ' Mitch', ' Mitchael', ' Mitchel', ' Mitchell', ' Moe', ' Mohamad', ' Mohamed', ' Mohammad', ' Mohammed', ' Mohan', ' Moise', ' Moises', ' Moishe', ' Monroe', ' Montague', ' Monte', ' Montgomery', ' Monty', ' Moore', ' Mordecai', ' Morgan', ' Morlee', ' Morley', ' Morly', ' Morrie', ' Morris', ' Morry', ' Morse', ' Mort', ' Morten', ' Mortie', ' Mortimer', ' Morton', ' Morty', ' Mose', ' Moses', ' Moshe', ' Moss', ' Muffin', ' Mugsy', ' Muhammad', ' Munmro', ' Munroe', ' Murdoch', ' Murdock', ' Murphy', ' Murray', ' Mustafa', ' Myke', ' Myles', ' Mylo', ' Myron', ' Nahum', ' Napoleon', ' Nat', ' Natale', ' Nate', ' Nathan', ' Nathanael', ' Nathanial', ' Nathaniel', ' Nathanil', ' Neal', ' Neale', ' Neall', ' Nealon', ' Nealson', ' Nealy', ' Ned', ' Neddie', ' Neddy', ' Neel', ' Neil', ' Nels', ' Nelsen', ' Nelson', ' Nero', ' Neron', ' Nester', ' Nestor', ' Nev', ' Nevil', ' Nevile', ' Neville', ' Nevin', ' Nevins', ' Newton', ' Niall', ' Niccolo', ' Nicholas', ' Nichole', ' Nichols', ' Nick', ' Nickey', ' Nickie', ' Nickolas', ' Nicky', ' Nico', ' Nicolas', ' Niels', ' Nigel', ' Niki', ' Nikita', ' Nikki', ' Nikolai', ' Nikos', ' Niles', ' Nils', ' Nilson', ' Niven', ' Noach', ' Noah', ' Noam', ' Noble', ' Noe', ' Noel', ' Nolan', ' Noland', ' Norbert', ' Norm', ' Norman', ' Normand', ' Normie', ' Norris', ' Northrop', ' Northrup', ' Norton', ' Norwood', ' Nunzio', ' Obadiah', ' Obadias', ' Oberon', ' Obie', ' Octavius', ' Odell', ' Odie', ' Odin', ' Odysseus', ' Olaf', ' Olag', ' Ole', ' Oleg', ' Olin', ' Oliver', ' Olivier', ' Olle', ' Ollie', ' Omar', ' Oral', ' Oran', ' Orazio', ' Orbadiah', ' Oren', ' Orin', ' Orion', ' Orlando', ' Orren', ' Orrin', ' Orson', ' Orton', ' Orville', ' Osbert', ' Osborn', ' Osborne', ' Osbourn', ' Osbourne', ' Oscar', ' Osgood', ' Osmond', ' Osmund', ' Ossie', ' Oswald', ' Oswell', ' Otes', ' Othello', ' Otho', ' Otis', ' Otto', ' Owen', ' Ozzie', ' Ozzy', ' Pablo', ' Pace', ' Paco', ' Paddie', ' Paddy', ' Padraig', ' Page', ' Paige', ' Pail', ' Palmer', ' Paolo', ' Park', ' Parke', ' Parker', ' Parnell', ' Parrnell', ' Parry', ' Parsifal', ' Partha', ' Pascal', ' Pascale', ' Pasquale', ' Pat', ' Pate', ' Patel', ' Paten', ' Patin', ' Paton', ' Patric', ' Patrice', ' Patricio', ' Patrick', ' Patrik', ' Patsy', ' Pattie', ' Patty', ' Paul', ' Paulo', ' Pavel', ' Pearce', ' Pedro', ' Peirce', ' Pembroke', ' Pen', ' Penn', ' Pennie', ' Penny', ' Penrod', ' Pepe', ' Pepillo', ' Pepito', ' Perceval', ' Percival', ' Percy', ' Perry', ' Pete', ' Peter', ' Petey', ' Petr', ' Peyter', ' Peyton', ' Phil', ' Philbert', ' Philip', ' Phillip', ' Phillipe', ' Phillipp', ' Phineas', ' Phip', ' Pierce', ' Pierre', ' Pierson', ' Piet', ' Pieter', ' Pietro', ' Piggy', ' Pincas', ' Pinchas', ' Pincus', ' Piotr', ' Pip', ' Plato', ' Pooh', ' Porter', ' Poul', ' Powell', ' Praneetf', ' Prasad', ' Prasun', ' Prent', ' Prentice', ' Prentiss', ' Prescott', ' Preston', ' Price', ' Prince', ' Pryce', ' Puff', ' Purcell', ' Putnam', ' Pyotr', ' Quent', ' Quentin', ' Quiggly', ' Quigly', ' Quigman', ' Quill', ' Quillan', ' Quincey', ' Quincy', ' Quinlan', ' Quinn', ' Quint', ' Quintin', ' Quinton', ' Quintus', ' Rab', ' Rabbi', ' Rabi', ' Rad', ' Radcliffe', ' Rafael', ' Rafe', ' Ragnar', ' Raimund', ' Rainer', ' Raj', ' Rajeev', ' Raleigh', ' Ralf', ' Ralph', ' Ram', ' Ramesh', ' Ramon', ' Ramsay', ' Ramsey', ' Rand', ' Randal', ' Randall', ' Randell', ' Randi', ' Randie', ' Randolf', ' Randolph', ' Randy', ' Ransell', ' Ransom', ' Raoul', ' Raphael', ' Raul', ' Ravi', ' Ravil', ' Rawley', ' Ray', ' Raymond', ' Raymund', ' Raymundo', ' Raynard', ' Rayner', ' Raynor', ' Reagan', ' Red', ' Redford', ' Redmond', ' Reece', ' Reed', ' Rees', ' Reese', ' Reg', ' Regan', ' Regen', ' Reggie', ' Reggis', ' Reggy', ' Reginald', ' Reginauld', ' Reid', ' Reilly', ' Reinhard', ' Reinhold', ' Rem', ' Remington', ' Remus', ' Renado', ' Renaldo', ' Renard', ' Renato', ' Renaud', ' Renault', ' Rene', ' Reube', ' Reuben', ' Reuven', ' Rex', ' Rey', ' Reynard', ' Reynold', ' Reynolds', ' Reza', ' Rhett', ' Ric', ' Ricard', ' Ricardo', ' Riccardo', ' Rice', ' Rich', ' Richard', ' Richardo', ' Richie', ' Richmond', ' Richy', ' Rick', ' Rickard', ' Rickey', ' Ricki', ' Rickie', ' Ricky', ' Rik', ' Rikki', ' Riley', ' Rinaldo', ' Ripley', ' Ritch', ' Ritchie', ' Roarke', ' Rob', ' Robb', ' Robbert', ' Robbie', ' Robert', ' Roberto', ' Robin', ' Robinson', ' Rochester', ' Rock', ' Rockwell', ' Rocky', ' Rod', ' Rodd', ' Roddie', ' Roddy', ' Roderic', ' Roderich', ' Roderick', ' Roderigo', ' Rodge', ' Rodger', ' Rodney', ' Rodolfo', ' Rodolph', ' Rodolphe', ' Rodrick', ' Rodrigo', ' Rodrique', ' Rog', ' Roger', ' Rogers', ' Roice', ' Roland', ' Rolando', ' Rolf', ' Rolfe', ' Rolland', ' Rollin', ' Rollins', ' Rollo', ' Rolph', ' Romain', ' Roman', ' Romeo', ' Ron', ' Ronald', ' Ronen', ' Roni', ' Ronnie', ' Ronny', ' Roosevelt', ' Rory', ' Roscoe', ' Ross', ' Roth', ' Rourke', ' Rowland', ' Roy', ' Royal', ' Royce', ' Rube', ' Ruben', ' Rubin', ' Ruby', ' Rudd', ' Ruddie', ' Ruddy', ' Rudie', ' Rudiger', ' Rudolf', ' Rudolfo', ' Rudolph', ' Rudy', ' Rudyard', ' Rufe', ' Rufus', ' Rupert', ' Ruperto', ' Russ', ' Russel', ' Russell', ' Rustie', ' Rustin', ' Rusty', ' Rutger', ' Rutherford', ' Rutledge', ' Rutter', ' Ryan', ' Sal', ' Salem', ' Salim', ' Salman', ' Salmon', ' Salomo', ' Salomon', ' Salomone', ' Salvador', ' Salvatore', ' Salvidor', ' Sam', ' Sammie', ' Sammy', ' Sampson', ' Samson', ' Samuel', ' Samuele', ' Sancho', ' Sander', ' Sanders', ' Sanderson', ' Sandor', ' Sandro', ' Sandy', ' Sanford', ' Sanson', ' Sansone', ' Sarge', ' Sargent', ' Sascha', ' Sasha', ' Saul', ' Sauncho', ' Saunder', ' Saunders', ' Saunderson', ' Saundra', ' Saw', ' Sawyer', ' Sawyere', ' Sax', ' Saxe', ' Saxon', ' Say', ' Sayer', ' Sayers', ' Sayre', ' Sayres', ' Scarface', ' Schroeder', ' Schuyler', ' Scot', ' Scott', ' Scotti', ' Scottie', ' Scotty', ' Seamus', ' Sean', ' Sebastian', ' Sebastiano', ' Sebastien', ' See', ' Selby', ' Selig', ' Serge', ' Sergeant', ' Sergei', ' Sergent', ' Sergio', ' Seth', ' Seymour', ' Shadow', ' Shaine', ' Shalom', ' Shamus', ' Shanan', ' Shane', ' Shannan', ' Shannon', ' Shaughn', ' Shaun', ' Shaw', ' Shawn', ' Shay', ' Shayne', ' Shea', ' Sheff', ' Sheffie', ' Sheffield', ' Sheffy', ' Shelby', ' Shelden', ' Sheldon', ' Shell', ' Shelley', ' Shelton', ' Shem', ' Shep', ' Shepard', ' Shepherd', ' Sheppard', ' Shepperd', ' Sheridan', ' Sherlock', ' Sherlocke', ' Sherman', ' Sherwin', ' Sherwood', ' Sherwynd', ' Shimon', ' Shlomo', ' Sholom', ' Shorty', ' Shurlock', ' Shurlocke', ' Shurwood', ' Si', ' Sibyl', ' Sid', ' Siddhartha', ' Sidnee', ' Sidney', ' Siegfried', ' Siffre', ' Sig', ' Sigfrid', ' Sigfried', ' Sigmund', ' Silas', ' Silvain', ' Silvan', ' Silvano', ' Silvanus', ' Silvester', ' Silvio', ' Sim', ' Simeon', ' Simmonds', ' Simon', ' Simone', ' Sinclair', ' Sinclare', ' Sivert', ' Siward', ' Skell', ' Skelly', ' Skip', ' Skipp', ' Skipper', ' Skippie', ' Skippy', ' Skipton', ' Sky', ' Skye', ' Skylar', ' Skyler', ' Slade', ' Slim', ' Sloan', ' Sloane', ' Sly', ' Smith', ' Smitty', ' Socrates', ' Sol', ' Sollie', ' Solly', ' Solomon', ' Somerset', ' Son', ' Sonnie', ' Sonny', ' Sparky', ' Spence', ' Spencer', ' Spense', ' Spenser', ' Spike', ' Spiro', ' Spiros', ' Spud', ' Srinivas', ' Stacy', ' Staffard', ' Stafford', ' Staford', ' Stan', ' Standford', ' Stanfield', ' Stanford', ' Stanislaw', ' Stanleigh', ' Stanley', ' Stanly', ' Stanton', ' Stanwood', ' Stavros', ' Stearn', ' Stearne', ' Stefan', ' Stefano', ' Steffen', ' Stephan', ' Stephanus', ' Stephen', ' Sterling', ' Stern', ' Sterne', ' Steve', ' Steven', ' Stevie', ' Stevy', ' Stew', ' Steward', ' Stewart', ' Stig', ' Stillman', ' Stillmann', ' Sting', ' Stinky', ' Stirling', ' Stu', ' Stuart', ' Sturgis', ' Sullivan', ' Sully', ' Sumner', ' Sunny', ' Sutherland', ' Sutton', ' Sven', ' Swen', ' Syd', ' Sydney', ' Sylvan', ' Sylvester', ' Tab', ' Tabb', ' Tabbie', ' Tabby', ' Taber', ' Tabor', ' Tad', ' Tadd', ' Taddeo', ' Taddeus', ' Tadeas', ' Tailor', ' Tait', ' Taite', ' Talbert', ' Talbot', ' Tallie', ' Tally', ' Tam', ' Tamas', ' Tammie', ' Tammy', ' Tan', ' Tann', ' Tanner', ' Tanney', ' Tannie', ' Tanny', ' Tarrance', ' Tarrant', ' Tarzan', ' Tate', ' Taylor', ' Teador', ' Ted', ' Tedd', ' Teddie', ' Teddy', ' Tedie', ' Tedman', ' Tedmund', ' Tedrick', ' Temp', ' Temple', ' Templeton', ' Teodoor', ' Teodor', ' Teodorico', ' Teodoro', ' Terence', ' Terencio', ' Terrance', ' Terrel', ' Terrell', ' Terrence', ' Terri', ' Terrill', ' Terry', ' Thacher', ' Thad', ' Thaddeus', ' Thaddius', ' Thaddus', ' Thadeus', ' Thain', ' Thaine', ' Thane', ' Tharen', ' Thatch', ' Thatcher', ' Thaxter', ' Thayne', ' Thebault', ' Thedric', ' Thedrick', ' Theo', ' Theobald', ' Theodor', ' Theodore', ' Theodoric', ' Theophyllus', ' Thibaud', ' Thibaut', ' Thom', ' Thomas', ' Thor', ' Thorn', ' Thorndike', ' Thornie', ' Thornton', ' Thorny', ' Thorpe', ' Thorstein', ' Thorsten', ' Thorvald', ' Thurstan', ' Thurston', ' Tibold', ' Tiebold', ' Tiebout', ' Tiler', ' Tim', ' Timmie', ' Timmy', ' Timothee', ' Timotheus', ' Timothy', ' Tirrell', ' Tito', ' Titos', ' Titus', ' Tobe', ' Tobiah', ' Tobias', ' Tobie', ' Tobin', ' Tobit', ' Toby', ' Tod', ' Todd', ' Toddie', ' Toddy', ' Tom', ' Tomas', ' Tome', ' Tomkin', ' Tomlin', ' Tommie', ' Tommy', ' Tonnie', ' Tony', ' Tore', ' Torey', ' Torin', ' Torr', ' Torrance', ' Torre', ' Torrence', ' Torrey', ' Torrin', ' Torry', ' Town', ' Towney', ' Townie', ' Townsend', ' Towny', ' Trace', ' Tracey', ' Tracie', ' Tracy', ' Traver', ' Travers', ' Travis', ' Tray', ' Tre', ' Tremain', ' Tremaine', ' Tremayne', ' Trent', ' Trenton', ' Trev', ' Trevar', ' Trever', ' Trevor', ' Trey', ' Trip', ' Tristan', ' Troy', ' Truman', ' Tuck', ' Tucker', ' Tuckie', ' Tucky', ' Tudor', ' Tull', ' Tulley', ' Tully', ' Turner', ' Ty', ' Tybalt', ' Tye', ' Tyler', ' Tymon', ' Tymothy', ' Tynan', ' Tyrone', ' Tyrus', ' Tyson', ' Udale', ' Udall', ' Udell', ' Ugo', ' Ulberto', ' Uli', ' Ulick', ' Ulises', ' Ulric', ' Ulrich', ' Ulrick', ' Ulysses', ' Umberto', ' Upton', ' Urbain', ' Urban', ' Urbano', ' Urbanus', ' Uri', ' Uriah', ' Uriel', ' Urson', ' Vachel', ' Vaclav', ' Vail', ' Val', ' Valdemar', ' Vale', ' Valentin', ' Valentine', ' Van', ' Vance', ' Vasili', ' Vasilis', ' Vasily', ' Vassili', ' Vassily', ' Vaughan', ' Vaughn', ' Venkat', ' Verge', ' Vergil', ' Vern', ' Verne', ' Vernen', ' Verney', ' Vernon', ' Vernor', ' Vic', ' Vick', ' Victor', ' Vijay', ' Vilhelm', ' Vin', ' Vince', ' Vincent', ' Vincents', ' Vinnie', ' Vinny', ' Vinod', ' Virge', ' Virgie', ' Virgil', ' Virgilio', ' Vite', ' Vito', ' Vlad', ' Vladamir', ' Vladimir', ' Voltaire', ' Von', ' Wade', ' Wadsworth', ' Wain', ' Waine', ' Wainwright', ' Wait', ' Waite', ' Waiter', ' Wake', ' Wakefield', ' Wald', ' Waldemar', ' Walden', ' Waldo', ' Waldon', ' Waleed', ' Walker', ' Wallace', ' Wallache', ' Wallas', ' Wallie', ' Wallis', ' Wally', ' Walsh', ' Walt', ' Walter', ' Walther', ' Walton', ' Wang', ' Ward', ' Warde', ' Warden', ' Ware', ' Waring', ' Warner', ' Warren', ' Wash', ' Washington', ' Wat', ' Waverley', ' Waverly', ' Way', ' Waylan', ' Wayland', ' Waylen', ' Waylin', ' Waylon', ' Wayne', ' Web', ' Webb', ' Weber', ' Webster', ' Weidar', ' Weider', ' Welbie', ' Welby', ' Welch', ' Wells', ' Welsh', ' Wendall', ' Wendel', ' Wendell', ' Werner', ' Wes', ' Wesley', ' Weslie', ' West', ' Westbrook', ' Westbrooke', ' Westleigh', ' Westley', ' Weston', ' Weylin', ' Wheeler', ' Whit', ' Whitaker', ' Whitby', ' Whitman', ' Whitney', ' Whittaker', ' Wiatt', ' Wilber', ' Wilbert', ' Wilbur', ' Wilburn', ' Wilburt', ' Wilden', ' Wildon', ' Wilek', ' Wiley', ' Wilfred', ' Wilfrid', ' Wilhelm', ' Will', ' Willard', ' Willdon', ' Willem', ' Willey', ' Willi', ' William', ' Willie', ' Willis', ' Willmott', ' Willy', ' Wilmar', ' Wilmer', ' Wilson', ' Wilt', ' Wilton', ' Win', ' Windham', ' Winfield', ' Winford', ' Winfred', ' Winifield', ' Winn', ' Winnie', ' Winny', ' Winslow', ' Winston', ' Winthrop', ' Winton', ' Wit', ' Witold', ' Wittie', ' Witty', ' Wojciech', ' Wolf', ' Wolfgang', ' Wolfie', ' Wolfram', ' Wolfy', ' Woochang', ' Wood', ' Woodie', ' Woodman', ' Woodrow', ' Woody', ' Worden', ' Worth', ' Worthington', ' Worthy', ' Wright', ' Wyatan', ' Wyatt', ' Wye', ' Wylie', ' Wyn', ' Wyndham', ' Wynn', ' Wynton', ' Xavier', ' Xenos', ' Xerxes', ' Xever', ' Ximenes', ' Ximenez', ' Xymenes', ' Yaakov', ' Yacov', ' Yale', ' Yanaton', ' Yance', ' Yancey', ' Yancy', ' Yank', ' Yankee', ' Yard', ' Yardley', ' Yehudi', ' Yigal', ' Yule', ' Yuri', ' Yves', ' Zach', ' Zacharia', ' Zachariah', ' Zacharias', ' Zacharie', ' Zachary', ' Zacherie', ' Zachery', ' Zack', ' Zackariah', ' Zak', ' Zalman', ' Zane', ' Zared', ' Zary', ' Zeb', ' Zebadiah', ' Zebedee', ' Zebulen', ' Zebulon', ' Zechariah', ' Zed', ' Zedekiah', ' Zeke', ' Zelig', ' Zerk', ' Zeus', ' Zippy', ' Zollie', ' Zolly', ' Zorro', ' Rahul', ' Shumeet', ' Vibhu']\n"
          ],
          "name": "stdout"
        }
      ]
    },
    {
      "cell_type": "code",
      "metadata": {
        "ExecuteTime": {
          "end_time": "2018-08-13T20:26:42.707885Z",
          "start_time": "2018-08-13T20:26:42.703302Z"
        },
        "id": "hsaTxg6TKqR_",
        "colab_type": "code",
        "outputId": "fd44b3e1-712d-46c6-f406-1c164c5030c7",
        "colab": {
          "base_uri": "https://localhost:8080/",
          "height": 170
        }
      },
      "source": [
        "print('number of samples:', len(names))\n",
        "for x in names[::1000]:\n",
        "    print(x)"
      ],
      "execution_count": 16,
      "outputs": [
        {
          "output_type": "stream",
          "text": [
            "number of samples: 7944\n",
            " Abagael\n",
            " Claresta\n",
            " Glory\n",
            " Liliane\n",
            " Prissie\n",
            " Geeta\n",
            " Giovanne\n",
            " Piggy\n"
          ],
          "name": "stdout"
        }
      ]
    },
    {
      "cell_type": "code",
      "metadata": {
        "ExecuteTime": {
          "end_time": "2018-08-13T20:26:42.857411Z",
          "start_time": "2018-08-13T20:26:42.709371Z"
        },
        "id": "2E57lNjoKqSH",
        "colab_type": "code",
        "outputId": "3688332d-64ba-4618-a13f-f56dc8ab91ef",
        "colab": {
          "base_uri": "https://localhost:8080/",
          "height": 298
        }
      },
      "source": [
        "MAX_LENGTH = max(map(len, names))\n",
        "print(\"max length:\", MAX_LENGTH)\n",
        "\n",
        "plt.title('Sequence length distribution')\n",
        "plt.hist(list(map(len, names)), bins=25);"
      ],
      "execution_count": 17,
      "outputs": [
        {
          "output_type": "stream",
          "text": [
            "max length: 16\n"
          ],
          "name": "stdout"
        },
        {
          "output_type": "display_data",
          "data": {
            "image/png": "[encoded data removed]",
            "text/plain": [
              "<Figure size 432x288 with 1 Axes>"
            ]
          },
          "metadata": {
            "tags": []
          }
        }
      ]
    },
    {
      "cell_type": "markdown",
      "metadata": {
        "id": "J7rcfCW4KqSP",
        "colab_type": "text"
      },
      "source": [
        "# Text processing\n",
        "\n",
        "First we need to collect a \"vocabulary\" of all unique tokens i.e. unique characters. We can then encode inputs as a sequence of character ids."
      ]
    },
    {
      "cell_type": "code",
      "metadata": {
        "ExecuteTime": {
          "end_time": "2018-08-13T20:26:42.864592Z",
          "start_time": "2018-08-13T20:26:42.858725Z"
        },
        "id": "pFx7q23GKqSR",
        "colab_type": "code",
        "outputId": "9fd7a67e-bd9b-4678-80a8-d5cdda929333",
        "colab": {
          "base_uri": "https://localhost:8080/",
          "height": 71
        }
      },
      "source": [
        "tokens = set(''.join(names))### YOUR CODE HERE: all unique characters go here, padding included!\n",
        "\n",
        "tokens = list(tokens)\n",
        "n_tokens = len(tokens)\n",
        "print ('n_tokens:', n_tokens)\n",
        "print(tokens)\n",
        "assert 50 < n_tokens < 60"
      ],
      "execution_count": 18,
      "outputs": [
        {
          "output_type": "stream",
          "text": [
            "n_tokens: 55\n",
            "['C', 'a', 'j', 'R', 'Z', 'T', 't', 'i', 'v', 'N', 'd', 'r', 'O', 'J', \"'\", 'G', 'P', 'h', 'x', 'k', 'W', 'o', 'F', 'M', 'y', 'X', 'U', 'V', 'c', 'm', '-', 'S', 'b', 'L', 'H', 'l', 'Y', 'e', 'n', 'Q', 'f', 'w', ' ', 'u', 'g', 'B', 'z', 's', 'p', 'D', 'E', 'q', 'I', 'A', 'K']\n"
          ],
          "name": "stdout"
        }
      ]
    },
    {
      "cell_type": "markdown",
      "metadata": {
        "id": "iXPzQue_KqSb",
        "colab_type": "text"
      },
      "source": [
        "### Cast everything from symbols into identifiers\n",
        "\n",
        "Tensorflow string manipulation is a bit tricky, so we'll work around it. \n",
        "We'll feed our recurrent neural network with ids of characters from our dictionary.\n",
        "\n",
        "To create such dictionary, let's assign `token_to_id`"
      ]
    },
    {
      "cell_type": "code",
      "metadata": {
        "ExecuteTime": {
          "end_time": "2018-08-13T20:26:42.870330Z",
          "start_time": "2018-08-13T20:26:42.866135Z"
        },
        "id": "kX2dAQLYKqSd",
        "colab_type": "code",
        "outputId": "0902c9c0-fddc-4b55-d76c-2caed5ce71c3",
        "colab": {
          "base_uri": "https://localhost:8080/",
          "height": 54
        }
      },
      "source": [
        "token_to_id = dict()  ### YOUR CODE HERE: create a dictionary of {symbol -> its  index in tokens}\n",
        "for i in range(n_tokens):\n",
        "    token_to_id[tokens[i]] = i\n",
        "  \n",
        "assert len(tokens) == len(token_to_id), \"dictionaries must have same size\"\n",
        "token_to_id[\"#\"] = 55 \n",
        "print(token_to_id)\n"
      ],
      "execution_count": 44,
      "outputs": [
        {
          "output_type": "stream",
          "text": [
            "{'C': 0, 'a': 1, 'j': 2, 'R': 3, 'Z': 4, 'T': 5, 't': 6, 'i': 7, 'v': 8, 'N': 9, 'd': 10, 'r': 11, 'O': 12, 'J': 13, \"'\": 14, 'G': 15, 'P': 16, 'h': 17, 'x': 18, 'k': 19, 'W': 20, 'o': 21, 'F': 22, 'M': 23, 'y': 24, 'X': 25, 'U': 26, 'V': 27, 'c': 28, 'm': 29, '-': 30, 'S': 31, 'b': 32, 'L': 33, 'H': 34, 'l': 35, 'Y': 36, 'e': 37, 'n': 38, 'Q': 39, 'f': 40, 'w': 41, ' ': 42, 'u': 43, 'g': 44, 'B': 45, 'z': 46, 's': 47, 'p': 48, 'D': 49, 'E': 50, 'q': 51, 'I': 52, 'A': 53, 'K': 54, '#': 55}\n"
          ],
          "name": "stdout"
        }
      ]
    },
    {
      "cell_type": "code",
      "metadata": {
        "ExecuteTime": {
          "end_time": "2018-08-13T20:26:42.875943Z",
          "start_time": "2018-08-13T20:26:42.871834Z"
        },
        "id": "csSDiAchKqSk",
        "colab_type": "code",
        "colab": {}
      },
      "source": [
        "\n",
        "def to_matrix(names, max_len=None, pad=token_to_id[pad_token], dtype=np.int32):\n",
        "    \"\"\"Casts a list of names into rnn-digestable padded matrix\"\"\"\n",
        "    \n",
        "    max_len = max_len or max(map(len, names))\n",
        "    names_ix = np.zeros([len(names), max_len], dtype) + pad\n",
        "\n",
        "    for i in range(len(names)):\n",
        "        name_ix = list(map(token_to_id.get, names[i]))\n",
        "        names_ix[i, :len(name_ix)] = name_ix\n",
        "\n",
        "    return names_ix"
      ],
      "execution_count": 0,
      "outputs": []
    },
    {
      "cell_type": "code",
      "metadata": {
        "ExecuteTime": {
          "end_time": "2018-08-13T20:26:42.883107Z",
          "start_time": "2018-08-13T20:26:42.877186Z"
        },
        "id": "1tur25AtKqSr",
        "colab_type": "code",
        "colab": {
          "base_uri": "https://localhost:8080/",
          "height": 221
        },
        "outputId": "a15562f0-c28d-4a0a-c9d9-a33666cad079"
      },
      "source": [
        "# Example: cast 4 random names to padded matrices (so that we can easily batch them)\n",
        "print('\\n'.join(names[::2000]))\n",
        "print(to_matrix(names[::2000]))\n",
        "print(to_matrix(names[1:5]))"
      ],
      "execution_count": 50,
      "outputs": [
        {
          "output_type": "stream",
          "text": [
            " Abagael\n",
            " Glory\n",
            " Prissie\n",
            " Giovanne\n",
            "[[42 53 32  1 44  1 37 35 55]\n",
            " [42 15 35 21 11 24 55 55 55]\n",
            " [42 16 11  7 47 47  7 37 55]\n",
            " [42 15  7 21  8  1 38 38 37]]\n",
            "[[42 53 32  1 44  1  7 35]\n",
            " [42 53 32 32 37 55 55 55]\n",
            " [42 53 32 32 37 24 55 55]\n",
            " [42 53 32 32  7 55 55 55]]\n"
          ],
          "name": "stdout"
        }
      ]
    },
    {
      "cell_type": "markdown",
      "metadata": {
        "id": "JGKO8mr7KqS4",
        "colab_type": "text"
      },
      "source": [
        "# Defining a recurrent neural network\n",
        "\n",
        "We can rewrite recurrent neural network as a consecutive application of dense layer to input $x_t$ and previous rnn state $h_t$. This is exactly what we're gonna do now.\n",
        "<img src=\"https://github.com/hse-aml/intro-to-dl/blob/master/week5/rnn.png?raw=1\" width=600>\n",
        "\n",
        "Since we're training a language model, there should also be:\n",
        "* An embedding layer that converts character id x_t to a vector.\n",
        "* An output layer that predicts probabilities of next phoneme based on h_t+1"
      ]
    },
    {
      "cell_type": "code",
      "metadata": {
        "ExecuteTime": {
          "end_time": "2018-08-13T20:26:44.039419Z",
          "start_time": "2018-08-13T20:26:42.884581Z"
        },
        "id": "29AnEqTFKqTA",
        "colab_type": "code",
        "colab": {
          "base_uri": "https://localhost:8080/",
          "height": 224
        },
        "outputId": "4413d784-ad3e-45e7-9548-5937936fdd3b"
      },
      "source": [
        "# remember to reset your session if you change your graph!\n",
        "s = keras_utils.reset_tf_session()"
      ],
      "execution_count": 51,
      "outputs": [
        {
          "output_type": "stream",
          "text": [
            "WARNING: Logging before flag parsing goes to stderr.\n",
            "W0713 07:48:39.410155 140135008610176 deprecation_wrapper.py:119] From /content/keras_utils.py:68: The name tf.get_default_session is deprecated. Please use tf.compat.v1.get_default_session instead.\n",
            "\n",
            "W0713 07:48:39.412589 140135008610176 deprecation_wrapper.py:119] From /usr/local/lib/python3.6/dist-packages/keras/backend/tensorflow_backend.py:79: The name tf.reset_default_graph is deprecated. Please use tf.compat.v1.reset_default_graph instead.\n",
            "\n",
            "W0713 07:48:39.415102 140135008610176 deprecation_wrapper.py:119] From /usr/local/lib/python3.6/dist-packages/keras/backend/tensorflow_backend.py:82: The name tf.placeholder is deprecated. Please use tf.compat.v1.placeholder instead.\n",
            "\n",
            "W0713 07:48:39.432892 140135008610176 deprecation_wrapper.py:119] From /usr/local/lib/python3.6/dist-packages/keras/backend/tensorflow_backend.py:84: The name tf.get_default_graph is deprecated. Please use tf.compat.v1.get_default_graph instead.\n",
            "\n",
            "W0713 07:48:39.434335 140135008610176 deprecation_wrapper.py:119] From /content/keras_utils.py:75: The name tf.ConfigProto is deprecated. Please use tf.compat.v1.ConfigProto instead.\n",
            "\n"
          ],
          "name": "stderr"
        }
      ]
    },
    {
      "cell_type": "code",
      "metadata": {
        "ExecuteTime": {
          "end_time": "2018-08-13T20:26:44.044903Z",
          "start_time": "2018-08-13T20:26:44.041084Z"
        },
        "id": "2rPhxmadKqTK",
        "colab_type": "code",
        "colab": {}
      },
      "source": [
        "import keras\n",
        "from keras.layers import concatenate, Dense, Embedding\n",
        "\n",
        "rnn_num_units = 64  # size of hidden state\n",
        "embedding_size = 16  # for characters\n",
        "\n",
        "# Let's create layers for our recurrent network\n",
        "# Note: we create layers but we don't \"apply\" them yet (this is a \"functional API\" of Keras)\n",
        "# Note: set the correct activation (from keras.activations) to Dense layers!\n",
        "\n",
        "# an embedding layer that converts character ids into embeddings\n",
        "embed_x = Embedding(n_tokens, embedding_size)\n",
        "\n",
        "# a dense layer that maps input and previous state to new hidden state, [x_t,h_t]->h_t+1\n",
        "get_h_next = Dense(rnn_num_units, activation = 'relu') ### YOUR CODE HERE\n",
        "\n",
        "# a dense layer that maps current hidden state to probabilities of characters [h_t+1]->P(x_t+1|h_t+1)\n",
        "get_probas = Dense(n_tokens, activation = 'softmax') ### YOUR CODE HERE "
      ],
      "execution_count": 0,
      "outputs": []
    },
    {
      "cell_type": "markdown",
      "metadata": {
        "id": "_kyixdEVKqTZ",
        "colab_type": "text"
      },
      "source": [
        "We will generate names character by character starting with `start_token`:\n",
        "\n",
        "<img src=\"https://github.com/hse-aml/intro-to-dl/blob/master/week5/char-nn.png?raw=1\" width=600>"
      ]
    },
    {
      "cell_type": "code",
      "metadata": {
        "ExecuteTime": {
          "end_time": "2018-08-13T20:26:44.053212Z",
          "start_time": "2018-08-13T20:26:44.048389Z"
        },
        "id": "CFxY4n4WKqTc",
        "colab_type": "code",
        "colab": {}
      },
      "source": [
        "def rnn_one_step(x_t, h_t):\n",
        "    \"\"\"\n",
        "    Recurrent neural network step that produces \n",
        "    probabilities for next token x_t+1 and next state h_t+1\n",
        "    given current input x_t and previous state h_t.\n",
        "    We'll call this method repeatedly to produce the whole sequence.\n",
        "    \n",
        "    You're supposed to \"apply\" above layers to produce new tensors.\n",
        "    Follow inline instructions to complete the function.\n",
        "    \"\"\"\n",
        "    # convert character id into embedding\n",
        "    x_t_emb = embed_x(tf.reshape(x_t, [-1, 1]))[:, 0]\n",
        "    \n",
        "    # concatenate x_t embedding and previous h_t state\n",
        "    x_and_h = tf.concat([x_t_emb, h_t], 1) ### YOUR CODE HERE\n",
        "    \n",
        "    # compute next state given x_and_h\n",
        "    h_next = get_h_next(x_and_h) ### YOUR CODE HERE\n",
        "    \n",
        "    # get probabilities for language model P(x_next|h_next)\n",
        "    output_probas = get_probas(h_next)### YOUR CODE HERE\n",
        "    \n",
        "    return output_probas, h_next"
      ],
      "execution_count": 0,
      "outputs": []
    },
    {
      "cell_type": "markdown",
      "metadata": {
        "id": "cxlumcRzKqTl",
        "colab_type": "text"
      },
      "source": [
        "# RNN: loop\n",
        "\n",
        "Once `rnn_one_step` is ready, let's apply it in a loop over name characters to get predictions.\n",
        "\n",
        "Let's assume that all names are at most length-16 for now, so we can simply iterate over them in a for loop.\n"
      ]
    },
    {
      "cell_type": "code",
      "metadata": {
        "ExecuteTime": {
          "end_time": "2018-08-13T20:26:44.342948Z",
          "start_time": "2018-08-13T20:26:44.056136Z"
        },
        "id": "8SWu0gIsKqTo",
        "colab_type": "code",
        "colab": {}
      },
      "source": [
        "input_sequence = tf.placeholder(tf.int32, (None, MAX_LENGTH))  # batch of token ids\n",
        "batch_size = tf.shape(input_sequence)[0]\n",
        "\n",
        "predicted_probas = []\n",
        "h_prev = tf.zeros([batch_size, rnn_num_units])  # initial hidden state\n",
        "\n",
        "for t in range(MAX_LENGTH):\n",
        "    x_t = input_sequence[:, t]  # column t\n",
        "    probas_next, h_next = rnn_one_step(x_t, h_prev)\n",
        "    \n",
        "    h_prev = h_next\n",
        "    predicted_probas.append(probas_next)\n",
        "    \n",
        "# combine predicted_probas into [batch, time, n_tokens] tensor\n",
        "predicted_probas = tf.transpose(tf.stack(predicted_probas), [1, 0, 2])\n",
        "\n",
        "# next to last token prediction is not needed\n",
        "predicted_probas = predicted_probas[:, :-1, :]"
      ],
      "execution_count": 0,
      "outputs": []
    },
    {
      "cell_type": "markdown",
      "metadata": {
        "id": "FWfxGK8fKqTz",
        "colab_type": "text"
      },
      "source": [
        "# RNN: loss and gradients\n",
        "\n",
        "Let's gather a matrix of predictions for $P(x_{next}|h)$ and the corresponding correct answers.\n",
        "\n",
        "We will flatten our matrices to shape [None, n_tokens] to make it easier.\n",
        "\n",
        "Our network can then be trained by minimizing crossentropy between predicted probabilities and those answers."
      ]
    },
    {
      "cell_type": "code",
      "metadata": {
        "ExecuteTime": {
          "end_time": "2018-08-13T20:26:44.354310Z",
          "start_time": "2018-08-13T20:26:44.344648Z"
        },
        "id": "HxVdlSixKqT1",
        "colab_type": "code",
        "colab": {}
      },
      "source": [
        "# flatten predictions to [batch*time, n_tokens]\n",
        "predictions_matrix = tf.reshape(predicted_probas, [-1, n_tokens])\n",
        "\n",
        "# flatten answers (next tokens) and one-hot encode them\n",
        "answers_matrix = tf.one_hot(tf.reshape(input_sequence[:, 1:], [-1]), n_tokens)"
      ],
      "execution_count": 0,
      "outputs": []
    },
    {
      "cell_type": "markdown",
      "metadata": {
        "id": "N3v2W-Z0KqT-",
        "colab_type": "text"
      },
      "source": [
        "Usually it's a good idea to ignore gradients of loss for padding token predictions.\n",
        "\n",
        "Because we don't care about further prediction after the pad_token is predicted for the first time, so it doesn't make sense to punish our network after the pad_token is predicted.\n",
        "\n",
        "For simplicity you can ignore this comment, it's up to you."
      ]
    },
    {
      "cell_type": "code",
      "metadata": {
        "ExecuteTime": {
          "end_time": "2018-08-13T20:26:45.076642Z",
          "start_time": "2018-08-13T20:26:44.355594Z"
        },
        "id": "n79x4no_KqUB",
        "colab_type": "code",
        "colab": {
          "base_uri": "https://localhost:8080/",
          "height": 139
        },
        "outputId": "54b18dd2-cdbd-4bec-8a3d-0f19158dcce4"
      },
      "source": [
        "# Define the loss as categorical cross-entropy (e.g. from keras.losses).\n",
        "# Mind that predictions are probabilities and NOT logits!\n",
        "# Remember to apply tf.reduce_mean to get a scalar loss!\n",
        "loss = tf.reduce_mean(keras.losses.categorical_crossentropy(answers_matrix, predictions_matrix))### YOUR CODE HERE\n",
        "\n",
        "optimize = tf.train.AdamOptimizer().minimize(loss)"
      ],
      "execution_count": 60,
      "outputs": [
        {
          "output_type": "stream",
          "text": [
            "W0713 08:14:02.613807 140135008610176 deprecation.py:506] From /usr/local/lib/python3.6/dist-packages/keras/backend/tensorflow_backend.py:2745: calling reduce_sum_v1 (from tensorflow.python.ops.math_ops) with keep_dims is deprecated and will be removed in a future version.\n",
            "Instructions for updating:\n",
            "keep_dims is deprecated, use keepdims instead\n",
            "W0713 08:14:02.719244 140135008610176 deprecation.py:323] From /usr/local/lib/python3.6/dist-packages/tensorflow/python/ops/math_grad.py:1250: add_dispatch_support.<locals>.wrapper (from tensorflow.python.ops.array_ops) is deprecated and will be removed in a future version.\n",
            "Instructions for updating:\n",
            "Use tf.where in 2.0, which has the same broadcast rule as np.where\n"
          ],
          "name": "stderr"
        }
      ]
    },
    {
      "cell_type": "markdown",
      "metadata": {
        "id": "LuK-T8iJKqUK",
        "colab_type": "text"
      },
      "source": [
        "# RNN: training"
      ]
    },
    {
      "cell_type": "code",
      "metadata": {
        "ExecuteTime": {
          "end_time": "2018-08-13T20:26:55.322187Z",
          "start_time": "2018-08-13T20:26:45.078296Z"
        },
        "id": "Sw8V9uamKqUM",
        "colab_type": "code",
        "colab": {
          "base_uri": "https://localhost:8080/",
          "height": 269
        },
        "outputId": "10675a81-be5c-404f-dfcc-3a7f41c855ab"
      },
      "source": [
        "from IPython.display import clear_output\n",
        "from random import sample\n",
        "\n",
        "s.run(tf.global_variables_initializer())\n",
        "\n",
        "batch_size = 32\n",
        "history = []\n",
        "\n",
        "for i in range(1000):\n",
        "    batch = to_matrix(sample(names, batch_size), max_len=MAX_LENGTH)\n",
        "    loss_i, _ = s.run([loss, optimize], {input_sequence: batch})\n",
        "    \n",
        "    history.append(loss_i)\n",
        "    \n",
        "    if (i + 1) % 100 == 0:\n",
        "        clear_output(True)\n",
        "        plt.plot(history, label='loss')\n",
        "        plt.legend()\n",
        "        plt.show()\n",
        "\n",
        "assert np.mean(history[:10]) > np.mean(history[-10:]), \"RNN didn't converge\""
      ],
      "execution_count": 61,
      "outputs": [
        {
          "output_type": "display_data",
          "data": {
            "image/png": "[encoded data removed]",
            "text/plain": [
              "<Figure size 432x288 with 1 Axes>"
            ]
          },
          "metadata": {
            "tags": []
          }
        }
      ]
    },
    {
      "cell_type": "markdown",
      "metadata": {
        "id": "YPE-KoLDKqUS",
        "colab_type": "text"
      },
      "source": [
        "# RNN: sampling\n",
        "Once we've trained our network a bit, let's get to actually generating stuff. All we need is the `rnn_one_step` function you have written above."
      ]
    },
    {
      "cell_type": "code",
      "metadata": {
        "ExecuteTime": {
          "end_time": "2018-08-13T20:26:55.341196Z",
          "start_time": "2018-08-13T20:26:55.323787Z"
        },
        "id": "5j89qczjKqUU",
        "colab_type": "code",
        "colab": {}
      },
      "source": [
        "x_t = tf.placeholder(tf.int32, (1,))\n",
        "h_t = tf.Variable(np.zeros([1, rnn_num_units], np.float32))  # we will update hidden state in this variable\n",
        "\n",
        "# For sampling we need to define `rnn_one_step` tensors only once in our graph.\n",
        "# We reuse all parameters thanks to functional API usage.\n",
        "# Then we can feed appropriate tensor values using feed_dict in a loop.\n",
        "# Note how different it is from training stage, where we had to unroll the whole sequence for backprop.\n",
        "next_probs, next_h = rnn_one_step(x_t, h_t)"
      ],
      "execution_count": 0,
      "outputs": []
    },
    {
      "cell_type": "code",
      "metadata": {
        "ExecuteTime": {
          "end_time": "2018-08-13T20:26:55.346422Z",
          "start_time": "2018-08-13T20:26:55.342659Z"
        },
        "id": "FQWHX-Y8KqUd",
        "colab_type": "code",
        "colab": {}
      },
      "source": [
        "def generate_sample(seed_phrase=start_token, max_length=MAX_LENGTH):\n",
        "    '''\n",
        "    This function generates text given a `seed_phrase` as a seed.\n",
        "    Remember to include start_token in seed phrase!\n",
        "    Parameter `max_length` is used to set the number of characters in prediction.\n",
        "    '''\n",
        "    x_sequence = [token_to_id[token] for token in seed_phrase]\n",
        "    s.run(tf.assign(h_t, h_t.initial_value))\n",
        "    \n",
        "    # feed the seed phrase, if any\n",
        "    for ix in x_sequence[:-1]:\n",
        "         s.run(tf.assign(h_t, next_h), {x_t: [ix]})\n",
        "    \n",
        "    # start generating\n",
        "    for _ in range(max_length-len(seed_phrase)):\n",
        "        x_probs,_ = s.run([next_probs, tf.assign(h_t, next_h)], {x_t: [x_sequence[-1]]})\n",
        "        x_sequence.append(np.random.choice(n_tokens, p=x_probs[0]))\n",
        "        \n",
        "    return ''.join([tokens[ix] for ix in x_sequence if tokens[ix] != pad_token])"
      ],
      "execution_count": 0,
      "outputs": []
    },
    {
      "cell_type": "code",
      "metadata": {
        "ExecuteTime": {
          "end_time": "2018-08-13T20:26:58.458115Z",
          "start_time": "2018-08-13T20:26:55.347900Z"
        },
        "id": "koxuVTvDKqUs",
        "colab_type": "code",
        "colab": {
          "base_uri": "https://localhost:8080/",
          "height": 187
        },
        "outputId": "8aecad33-31aa-4447-85c4-4b8dafb7a95c"
      },
      "source": [
        "# without prefix\n",
        "for _ in range(10):\n",
        "    print(generate_sample())"
      ],
      "execution_count": 64,
      "outputs": [
        {
          "output_type": "stream",
          "text": [
            " Latanorienasena\n",
            " Meminonaattadda\n",
            " Zaloselenerlene\n",
            " Semannallesanne\n",
            " Doedilanielanna\n",
            " Adargadhattanen\n",
            " Arrisamaspondan\n",
            " Barsennillannet\n",
            " Ahlwattenneussa\n",
            " Benriannadolona\n"
          ],
          "name": "stdout"
        }
      ]
    },
    {
      "cell_type": "code",
      "metadata": {
        "ExecuteTime": {
          "end_time": "2018-08-13T20:27:01.986726Z",
          "start_time": "2018-08-13T20:26:58.459810Z"
        },
        "id": "waCxVHwIKqU5",
        "colab_type": "code",
        "colab": {
          "base_uri": "https://localhost:8080/",
          "height": 187
        },
        "outputId": "ce055863-ee27-44fd-a48c-5aae497b97ac"
      },
      "source": [
        "# with prefix conditioning\n",
        "for _ in range(10):\n",
        "    print(generate_sample(' Trump'))"
      ],
      "execution_count": 65,
      "outputs": [
        {
          "output_type": "stream",
          "text": [
            " Trumpiannardfie\n",
            " Trumpinaosranar\n",
            " Trumpteedarwien\n",
            " Trumpunnernetes\n",
            " Trumphethynasla\n",
            " Trumptaddadietl\n",
            " Trumpyanstienna\n",
            " Trumparnuantara\n",
            " Trumpuagnoreana\n",
            " Trumpanenenanah\n"
          ],
          "name": "stdout"
        }
      ]
    },
    {
      "cell_type": "markdown",
      "metadata": {
        "id": "m1HzmzLPKqVG",
        "colab_type": "text"
      },
      "source": [
        "# Submit to Coursera"
      ]
    },
    {
      "cell_type": "code",
      "metadata": {
        "ExecuteTime": {
          "end_time": "2018-08-13T20:40:02.004926Z",
          "start_time": "2018-08-13T20:40:02.000821Z"
        },
        "id": "cZvnInoJKqVK",
        "colab_type": "code",
        "colab": {}
      },
      "source": [
        "# token expires every 30 min\n",
        "COURSERA_TOKEN = \"BV77mC2kkniA2Suj\"\n",
        "COURSERA_EMAIL = \"talha.javed6645@gmail.com\""
      ],
      "execution_count": 0,
      "outputs": []
    },
    {
      "cell_type": "code",
      "metadata": {
        "ExecuteTime": {
          "end_time": "2018-08-13T20:40:18.923357Z",
          "start_time": "2018-08-13T20:40:03.549343Z"
        },
        "id": "m0xF0x0hKqVW",
        "colab_type": "code",
        "colab": {
          "base_uri": "https://localhost:8080/",
          "height": 68
        },
        "outputId": "44745e60-3a4b-47f8-88a3-9a39efd266e7"
      },
      "source": [
        "from submit import submit_char_rnn\n",
        "samples = [generate_sample(' Al') for i in tqdm_utils.tqdm_notebook_failsafe(range(25))]\n",
        "submission = (history, samples)\n",
        "submit_char_rnn(submission, COURSERA_EMAIL, COURSERA_TOKEN)"
      ],
      "execution_count": 67,
      "outputs": [
        {
          "output_type": "stream",
          "text": [
            "*************************\n",
            "\n",
            "Submitted to Coursera platform. See results on assignment page!\n"
          ],
          "name": "stdout"
        }
      ]
    },
    {
      "cell_type": "markdown",
      "metadata": {
        "id": "cH4qq13sKqVe",
        "colab_type": "text"
      },
      "source": [
        "# Try it out!\n",
        "\n",
        "__Disclaimer:__ This part of assignment is entirely optional. You won't receive bonus points for it. However, it's a fun thing to do. Please share your results on course forums.\n",
        "\n",
        "You've just implemented a recurrent language model that can be tasked with generating any kind of sequence, so there's plenty of data you can try it on:\n",
        "\n",
        "* Novels/poems/songs of your favorite author\n",
        "* News titles/clickbait titles\n",
        "* Source code of Linux or Tensorflow\n",
        "* Molecules in [smiles](https://en.wikipedia.org/wiki/Simplified_molecular-input_line-entry_system) format\n",
        "* Melody in notes/chords format\n",
        "* IKEA catalog titles\n",
        "* Pokemon names\n",
        "* Cards from Magic, the Gathering / Hearthstone\n",
        "\n",
        "If you're willing to give it a try, here's what you wanna look at:\n",
        "* Current data format is a sequence of lines, so a novel can be formatted as a list of sentences. Alternatively, you can change data preprocessing altogether.\n",
        "* While some datasets are readily available, others can only be scraped from the web. Try `Selenium` or `Scrapy` for that.\n",
        "* Make sure MAX_LENGTH is adjusted for longer datasets. There's also a bonus section about dynamic RNNs at the bottom.\n",
        "* More complex tasks require larger RNN architecture, try more neurons or several layers. It would also require more training iterations.\n",
        "* Long-term dependencies in music, novels or molecules are better handled with LSTM or GRU\n",
        "\n",
        "__Good hunting!__"
      ]
    },
    {
      "cell_type": "markdown",
      "metadata": {
        "collapsed": true,
        "id": "izjFZPXmKqVl",
        "colab_type": "text"
      },
      "source": [
        "# Bonus level: dynamic RNNs\n",
        "\n",
        "Apart from Keras, there's also a friendly TensorFlow API for recurrent neural nets. It's based around the symbolic loop function (aka [tf.scan](https://www.tensorflow.org/api_docs/python/tf/scan)).\n",
        "\n",
        "RNN loop that we implemented for training can be replaced with single TensorFlow instruction: [tf.nn.dynamic_rnn](https://www.tensorflow.org/api_docs/python/tf/nn/dynamic_rnn).\n",
        "This interface allows for dynamic sequence length and comes with some pre-implemented architectures.\n",
        "\n",
        "Take a look at [tf.nn.rnn_cell.BasicRNNCell](https://www.tensorflow.org/api_docs/python/tf/contrib/rnn/BasicRNNCell)."
      ]
    },
    {
      "cell_type": "code",
      "metadata": {
        "ExecuteTime": {
          "end_time": "2018-08-13T20:27:12.975354Z",
          "start_time": "2018-08-13T20:27:12.737529Z"
        },
        "id": "pw9D1jHXKqVn",
        "colab_type": "code",
        "colab": {
          "base_uri": "https://localhost:8080/",
          "height": 173
        },
        "outputId": "d0c49fc5-57d3-45e8-e864-c2105f0c56c0"
      },
      "source": [
        "class CustomRNN(tf.nn.rnn_cell.BasicRNNCell):\n",
        "    def call(self, input, state):\n",
        "        # from docs:\n",
        "        # Returns:\n",
        "        # Output: A 2-D tensor with shape [batch_size, self.output_size].\n",
        "        # New state: Either a single 2-D tensor, or a tuple of tensors matching the arity and shapes of state.\n",
        "        return rnn_one_step(input[:, 0], state)\n",
        "    \n",
        "    @property\n",
        "    def output_size(self):\n",
        "        return n_tokens\n",
        "    \n",
        "cell = CustomRNN(rnn_num_units)\n",
        "\n",
        "input_sequence = tf.placeholder(tf.float32, (None, None))\n",
        "    \n",
        "predicted_probas, last_state = tf.nn.dynamic_rnn(cell, input_sequence[:, :, None], dtype=tf.float32)\n",
        "\n",
        "print('LSTM outputs for each step [batch,time,n_tokens]:')\n",
        "print(predicted_probas.eval({input_sequence: to_matrix(names[:10], max_len=50)}).shape)"
      ],
      "execution_count": 70,
      "outputs": [
        {
          "output_type": "stream",
          "text": [
            "W0713 08:20:35.249919 140135008610176 deprecation.py:506] From /usr/local/lib/python3.6/dist-packages/tensorflow/python/ops/init_ops.py:1251: calling VarianceScaling.__init__ (from tensorflow.python.ops.init_ops) with dtype is deprecated and will be removed in a future version.\n",
            "Instructions for updating:\n",
            "Call initializer instance with the dtype argument instead of passing it to the constructor\n",
            "W0713 08:20:35.262055 140135008610176 deprecation.py:506] From /usr/local/lib/python3.6/dist-packages/tensorflow/python/ops/rnn_cell_impl.py:459: calling Zeros.__init__ (from tensorflow.python.ops.init_ops) with dtype is deprecated and will be removed in a future version.\n",
            "Instructions for updating:\n",
            "Call initializer instance with the dtype argument instead of passing it to the constructor\n"
          ],
          "name": "stderr"
        },
        {
          "output_type": "stream",
          "text": [
            "LSTM outputs for each step [batch,time,n_tokens]:\n",
            "(10, 50, 55)\n"
          ],
          "name": "stdout"
        }
      ]
    },
    {
      "cell_type": "markdown",
      "metadata": {
        "id": "4XJpnTvbKqVv",
        "colab_type": "text"
      },
      "source": [
        "Note that we never used MAX_LENGTH in the code above: TF will iterate over however many time-steps you gave it.\n",
        "\n",
        "You can also use any pre-implemented RNN cell:"
      ]
    },
    {
      "cell_type": "code",
      "metadata": {
        "ExecuteTime": {
          "end_time": "2018-08-13T20:27:12.981697Z",
          "start_time": "2018-08-13T20:27:12.977590Z"
        },
        "id": "OjVYiueFKqVx",
        "colab_type": "code",
        "colab": {
          "base_uri": "https://localhost:8080/",
          "height": 54
        },
        "outputId": "bc686f10-b4e3-4d32-90a7-26ce52388894"
      },
      "source": [
        "for obj in dir(tf.nn.rnn_cell) + dir(tf.contrib.rnn):\n",
        "    if obj.endswith('Cell'):\n",
        "        print(obj, end=\"\\t\")"
      ],
      "execution_count": 71,
      "outputs": [
        {
          "output_type": "stream",
          "text": [
            "BasicLSTMCell\tBasicRNNCell\tGRUCell\tLSTMCell\tMultiRNNCell\tRNNCell\tBasicLSTMCell\tBasicRNNCell\tBidirectionalGridLSTMCell\tConv1DLSTMCell\tConv2DLSTMCell\tConv3DLSTMCell\tConvLSTMCell\tCoupledInputForgetGateLSTMCell\tFusedRNNCell\tGLSTMCell\tGRUBlockCell\tGRUCell\tGridLSTMCell\tIndRNNCell\tIndyGRUCell\tIndyLSTMCell\tIntersectionRNNCell\tLSTMBlockCell\tLSTMBlockFusedCell\tLSTMCell\tLayerNormBasicLSTMCell\tLayerRNNCell\tMultiRNNCell\tNASCell\tPhasedLSTMCell\tRNNCell\tSRUCell\tTimeFreqLSTMCell\tUGRNNCell\t"
          ],
          "name": "stdout"
        }
      ]
    },
    {
      "cell_type": "code",
      "metadata": {
        "ExecuteTime": {
          "end_time": "2018-08-13T20:27:13.168207Z",
          "start_time": "2018-08-13T20:27:12.986884Z"
        },
        "id": "utWxS7CvKqV5",
        "colab_type": "code",
        "colab": {}
      },
      "source": [
        "input_sequence = tf.placeholder(tf.int32, (None, None))\n",
        "\n",
        "inputs_embedded = embed_x(input_sequence)\n",
        "\n",
        "# standard cell returns hidden state as output!\n",
        "cell = tf.nn.rnn_cell.LSTMCell(rnn_num_units)\n",
        "\n",
        "#state_sequence, last_state = tf.nn.dynamic_rnn(cell, inputs_embedded, dtype=tf.float32)\n",
        "\n",
        "#s.run(tf.global_variables_initializer())\n",
        "\n",
        "#print('LSTM hidden state for each step [batch,time,rnn_num_units]:')\n",
        "#print(state_sequence.eval({input_sequence: to_matrix(names[:10], max_len=50)}).shape)"
      ],
      "execution_count": 0,
      "outputs": []
    }
  ]
}